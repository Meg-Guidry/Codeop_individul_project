{
 "cells": [
  {
   "cell_type": "markdown",
   "id": "d60f963f-aacd-492e-a152-314842c7d557",
   "metadata": {},
   "source": [
    "Initial data processing\n",
    "\n",
    "CodeOp individual project\n",
    "\n",
    "March 2024"
   ]
  },
  {
   "cell_type": "code",
   "execution_count": 70,
   "id": "dfa9d897-b79b-49e5-ba76-583e2f6a0598",
   "metadata": {},
   "outputs": [],
   "source": [
    "import plotly.io as pio\n",
    "pio.renderers.default = 'notebook'"
   ]
  },
  {
   "cell_type": "code",
   "execution_count": 71,
   "id": "6b0f8a5e-c829-4faa-ac50-47c0e144a7ec",
   "metadata": {},
   "outputs": [],
   "source": [
    "import pandas as pd\n",
    "import matplotlib.pyplot as plt\n",
    "import numpy as np\n",
    "import seaborn as sns"
   ]
  },
  {
   "cell_type": "code",
   "execution_count": 72,
   "id": "c7a2a6a6-a720-4515-a911-f2e08ebd1ce1",
   "metadata": {},
   "outputs": [],
   "source": [
    "PowerBI_df = pd.read_csv(\"Gen_Data/data_improved_including DE_AWS.csv\")\n",
    "SF_df = pd.read_csv(\"Gen_Data/Grad_attendance_info.xls.csv\")"
   ]
  },
  {
   "cell_type": "code",
   "execution_count": 73,
   "id": "5ce44d43-923b-4a13-8741-f1799d08af5e",
   "metadata": {
    "scrolled": true
   },
   "outputs": [
    {
     "data": {
      "text/html": [
       "<div>\n",
       "<style scoped>\n",
       "    .dataframe tbody tr th:only-of-type {\n",
       "        vertical-align: middle;\n",
       "    }\n",
       "\n",
       "    .dataframe tbody tr th {\n",
       "        vertical-align: top;\n",
       "    }\n",
       "\n",
       "    .dataframe thead th {\n",
       "        text-align: right;\n",
       "    }\n",
       "</style>\n",
       "<table border=\"1\" class=\"dataframe\">\n",
       "  <thead>\n",
       "    <tr style=\"text-align: right;\">\n",
       "      <th></th>\n",
       "      <th>Cohort Name_SF</th>\n",
       "      <th>Learner Name</th>\n",
       "      <th>Original Risk Level</th>\n",
       "      <th>Risk Level</th>\n",
       "      <th>Graduation Date</th>\n",
       "      <th>Days Since Cohort Graduation</th>\n",
       "      <th>Total Attendance Taken</th>\n",
       "      <th>Total Days Absent</th>\n",
       "      <th>Total Days Late</th>\n",
       "      <th>Average Score - Soft Skills</th>\n",
       "      <th>Average Score - Technical Skills</th>\n",
       "    </tr>\n",
       "  </thead>\n",
       "  <tbody>\n",
       "    <tr>\n",
       "      <th>0</th>\n",
       "      <td>KST NAT1</td>\n",
       "      <td>Ahmed Yusuf</td>\n",
       "      <td>To Be Identified</td>\n",
       "      <td>To Be Identified</td>\n",
       "      <td>04/09/2021</td>\n",
       "      <td>1059</td>\n",
       "      <td>0</td>\n",
       "      <td>0</td>\n",
       "      <td>0</td>\n",
       "      <td>NaN</td>\n",
       "      <td>NaN</td>\n",
       "    </tr>\n",
       "    <tr>\n",
       "      <th>1</th>\n",
       "      <td>KST NAT1</td>\n",
       "      <td>Kayla Fullick</td>\n",
       "      <td>To Be Identified</td>\n",
       "      <td>To Be Identified</td>\n",
       "      <td>04/09/2021</td>\n",
       "      <td>1059</td>\n",
       "      <td>0</td>\n",
       "      <td>0</td>\n",
       "      <td>0</td>\n",
       "      <td>NaN</td>\n",
       "      <td>NaN</td>\n",
       "    </tr>\n",
       "    <tr>\n",
       "      <th>2</th>\n",
       "      <td>KST NAT1</td>\n",
       "      <td>Sadie Jones</td>\n",
       "      <td>To Be Identified</td>\n",
       "      <td>To Be Identified</td>\n",
       "      <td>04/09/2021</td>\n",
       "      <td>1059</td>\n",
       "      <td>0</td>\n",
       "      <td>0</td>\n",
       "      <td>0</td>\n",
       "      <td>NaN</td>\n",
       "      <td>NaN</td>\n",
       "    </tr>\n",
       "    <tr>\n",
       "      <th>3</th>\n",
       "      <td>KST NAT1</td>\n",
       "      <td>Ellis Arnold</td>\n",
       "      <td>To Be Identified</td>\n",
       "      <td>To Be Identified</td>\n",
       "      <td>04/09/2021</td>\n",
       "      <td>1059</td>\n",
       "      <td>0</td>\n",
       "      <td>0</td>\n",
       "      <td>0</td>\n",
       "      <td>NaN</td>\n",
       "      <td>NaN</td>\n",
       "    </tr>\n",
       "    <tr>\n",
       "      <th>4</th>\n",
       "      <td>KST NAT1</td>\n",
       "      <td>Ahad Ali</td>\n",
       "      <td>To Be Identified</td>\n",
       "      <td>To Be Identified</td>\n",
       "      <td>04/09/2021</td>\n",
       "      <td>1059</td>\n",
       "      <td>0</td>\n",
       "      <td>0</td>\n",
       "      <td>0</td>\n",
       "      <td>NaN</td>\n",
       "      <td>NaN</td>\n",
       "    </tr>\n",
       "  </tbody>\n",
       "</table>\n",
       "</div>"
      ],
      "text/plain": [
       "  Cohort Name_SF   Learner Name Original Risk Level        Risk Level  \\\n",
       "0       KST NAT1    Ahmed Yusuf    To Be Identified  To Be Identified   \n",
       "1       KST NAT1  Kayla Fullick    To Be Identified  To Be Identified   \n",
       "2       KST NAT1    Sadie Jones    To Be Identified  To Be Identified   \n",
       "3       KST NAT1   Ellis Arnold    To Be Identified  To Be Identified   \n",
       "4       KST NAT1       Ahad Ali    To Be Identified  To Be Identified   \n",
       "\n",
       "  Graduation Date  Days Since Cohort Graduation  Total Attendance Taken  \\\n",
       "0      04/09/2021                          1059                       0   \n",
       "1      04/09/2021                          1059                       0   \n",
       "2      04/09/2021                          1059                       0   \n",
       "3      04/09/2021                          1059                       0   \n",
       "4      04/09/2021                          1059                       0   \n",
       "\n",
       "   Total Days Absent  Total Days Late  Average Score - Soft Skills  \\\n",
       "0                  0                0                          NaN   \n",
       "1                  0                0                          NaN   \n",
       "2                  0                0                          NaN   \n",
       "3                  0                0                          NaN   \n",
       "4                  0                0                          NaN   \n",
       "\n",
       "   Average Score - Technical Skills  \n",
       "0                               NaN  \n",
       "1                               NaN  \n",
       "2                               NaN  \n",
       "3                               NaN  \n",
       "4                               NaN  "
      ]
     },
     "execution_count": 73,
     "metadata": {},
     "output_type": "execute_result"
    }
   ],
   "source": [
    "SF_df.head()"
   ]
  },
  {
   "cell_type": "code",
   "execution_count": 74,
   "id": "c8295930-2052-421d-affc-92823dd3885f",
   "metadata": {
    "scrolled": true
   },
   "outputs": [],
   "source": [
    "SF_df.rename(columns={\"Learner Name\":\"LearnerName\"}, inplace=True)"
   ]
  },
  {
   "cell_type": "code",
   "execution_count": 75,
   "id": "e1995451-b489-4bb7-b9f5-e4b156d1a66e",
   "metadata": {},
   "outputs": [
    {
     "name": "stdout",
     "output_type": "stream",
     "text": [
      "<class 'pandas.core.frame.DataFrame'>\n",
      "RangeIndex: 4810 entries, 0 to 4809\n",
      "Data columns (total 11 columns):\n",
      " #   Column                            Non-Null Count  Dtype  \n",
      "---  ------                            --------------  -----  \n",
      " 0   Cohort Name_SF                    4810 non-null   object \n",
      " 1   LearnerName                       4810 non-null   object \n",
      " 2   Original Risk Level               4475 non-null   object \n",
      " 3   Risk Level                        4810 non-null   object \n",
      " 4   Graduation Date                   4810 non-null   object \n",
      " 5   Days Since Cohort Graduation      4810 non-null   int64  \n",
      " 6   Total Attendance Taken            4810 non-null   int64  \n",
      " 7   Total Days Absent                 4810 non-null   int64  \n",
      " 8   Total Days Late                   4810 non-null   int64  \n",
      " 9   Average Score - Soft Skills       1467 non-null   float64\n",
      " 10  Average Score - Technical Skills  1467 non-null   float64\n",
      "dtypes: float64(2), int64(4), object(5)\n",
      "memory usage: 413.5+ KB\n"
     ]
    }
   ],
   "source": [
    "SF_df.info()"
   ]
  },
  {
   "cell_type": "code",
   "execution_count": 76,
   "id": "56cf1ebc-fb2f-4569-9efe-2760282e00ee",
   "metadata": {},
   "outputs": [
    {
     "name": "stdout",
     "output_type": "stream",
     "text": [
      "<class 'pandas.core.frame.DataFrame'>\n",
      "RangeIndex: 2851 entries, 0 to 2850\n",
      "Data columns (total 54 columns):\n",
      " #   Column                                 Non-Null Count  Dtype  \n",
      "---  ------                                 --------------  -----  \n",
      " 0   ProgramName                            2851 non-null   object \n",
      " 1   Cohort_name                            2851 non-null   object \n",
      " 2   Student_ID                             2851 non-null   int64  \n",
      " 3   LearnerName                            2851 non-null   object \n",
      " 4   Age_at_application                     2840 non-null   float64\n",
      " 5   areaLocal                              2549 non-null   object \n",
      " 6   asylumSeeker                           2162 non-null   object \n",
      " 7   Barriers value                         2851 non-null   int64  \n",
      " 8   birthDate                              2846 non-null   object \n",
      " 9   Cohort_City                            2713 non-null   object \n",
      " 10  Current_Employer_Name                  1407 non-null   object \n",
      " 11  Current_placement_aligned_to_training  1054 non-null   float64\n",
      " 12  Current_position                       2713 non-null   object \n",
      " 13  education                              2849 non-null   object \n",
      " 14  Education level                        2849 non-null   object \n",
      " 15  educationStatusAtApplication           2419 non-null   object \n",
      " 16  Employed_within_180D                   2357 non-null   float64\n",
      " 17  Employed_within_90D                    2357 non-null   float64\n",
      " 18  Employment_Status                      2357 non-null   object \n",
      " 19  employmentIndustryPreGen               2213 non-null   object \n",
      " 20  employmentSatisfactionPreGen           2268 non-null   object \n",
      " 21  employmentStatusPreGen                 2821 non-null   object \n",
      " 22  employmentTypePreGen                   2849 non-null   object \n",
      " 23  englishFirstLanguage                   2385 non-null   object \n",
      " 24  Enrolment_Status                       2713 non-null   object \n",
      " 25  Ethnicity_Group                        2759 non-null   object \n",
      " 26  First_placement_by_gen                 1137 non-null   float64\n",
      " 27  First_Placement_Date                   1363 non-null   object \n",
      " 28  gender                                 2846 non-null   object \n",
      " 29  has_degree                             2849 non-null   float64\n",
      " 30  Has_dependents                         2793 non-null   float64\n",
      " 31  has_worked_5+_years                    2456 non-null   float64\n",
      " 32  IMD_decile                             2252 non-null   float64\n",
      " 33  Is_30_or_over                          2851 non-null   int64  \n",
      " 34  Is_disabled                            2851 non-null   int64  \n",
      " 35  is_EAL                                 2851 non-null   int64  \n",
      " 36  is_ethnic_minority                     2759 non-null   float64\n",
      " 37  is_LGBTQ+                              2376 non-null   float64\n",
      " 38  is_lone_parent                         2566 non-null   float64\n",
      " 39  is_low_socio_econ                      1599 non-null   float64\n",
      " 40  is_unempl_12+_mths                     2438 non-null   float64\n",
      " 41  is_unemployed_pre_gen                  2438 non-null   float64\n",
      " 42  is_unsatisfied_empl_pre_gen            2268 non-null   float64\n",
      " 43  Job_start_speed                        1413 non-null   float64\n",
      " 44  learnerSpecialNeedsDetails             511 non-null    object \n",
      " 45  postCode                               2845 non-null   object \n",
      " 46  PostGenAspirationPosition              2214 non-null   object \n",
      " 47  raceEthnicity                          2760 non-null   object \n",
      " 48  reasonUnemployedPreGen                 2145 non-null   object \n",
      " 49  refugeeStat                            2149 non-null   object \n",
      " 50  religion                               2149 non-null   object \n",
      " 51  socioeconStatus                        2289 non-null   object \n",
      " 52  socioeconStatusMap                     1919 non-null   object \n",
      " 53  Unemployment_length                    2438 non-null   object \n",
      "dtypes: float64(17), int64(5), object(32)\n",
      "memory usage: 1.2+ MB\n"
     ]
    }
   ],
   "source": [
    "PowerBI_df.info()"
   ]
  },
  {
   "cell_type": "code",
   "execution_count": 77,
   "id": "149762cc-f8f3-4297-9965-3566e067986d",
   "metadata": {},
   "outputs": [],
   "source": [
    "# merged_df = PowerBI_df.join(SF_df, on=\"LearnerName\")\n",
    "\n",
    "gen_df = pd.merge(PowerBI_df, SF_df, left_on='LearnerName', right_on='LearnerName')"
   ]
  },
  {
   "cell_type": "code",
   "execution_count": 78,
   "id": "695717f2-a3e8-49aa-b781-15c316232054",
   "metadata": {},
   "outputs": [
    {
     "name": "stdout",
     "output_type": "stream",
     "text": [
      "<class 'pandas.core.frame.DataFrame'>\n",
      "RangeIndex: 2602 entries, 0 to 2601\n",
      "Data columns (total 64 columns):\n",
      " #   Column                                 Non-Null Count  Dtype  \n",
      "---  ------                                 --------------  -----  \n",
      " 0   ProgramName                            2602 non-null   object \n",
      " 1   Cohort_name                            2602 non-null   object \n",
      " 2   Student_ID                             2602 non-null   int64  \n",
      " 3   LearnerName                            2602 non-null   object \n",
      " 4   Age_at_application                     2591 non-null   float64\n",
      " 5   areaLocal                              2298 non-null   object \n",
      " 6   asylumSeeker                           1971 non-null   object \n",
      " 7   Barriers value                         2602 non-null   int64  \n",
      " 8   birthDate                              2597 non-null   object \n",
      " 9   Cohort_City                            2460 non-null   object \n",
      " 10  Current_Employer_Name                  1274 non-null   object \n",
      " 11  Current_placement_aligned_to_training  922 non-null    float64\n",
      " 12  Current_position                       2460 non-null   object \n",
      " 13  education                              2600 non-null   object \n",
      " 14  Education level                        2600 non-null   object \n",
      " 15  educationStatusAtApplication           2170 non-null   object \n",
      " 16  Employed_within_180D                   2128 non-null   float64\n",
      " 17  Employed_within_90D                    2128 non-null   float64\n",
      " 18  Employment_Status                      2128 non-null   object \n",
      " 19  employmentIndustryPreGen               1982 non-null   object \n",
      " 20  employmentSatisfactionPreGen           2034 non-null   object \n",
      " 21  employmentStatusPreGen                 2573 non-null   object \n",
      " 22  employmentTypePreGen                   2600 non-null   object \n",
      " 23  englishFirstLanguage                   2162 non-null   object \n",
      " 24  Enrolment_Status                       2460 non-null   object \n",
      " 25  Ethnicity_Group                        2511 non-null   object \n",
      " 26  First_placement_by_gen                 1010 non-null   float64\n",
      " 27  First_Placement_Date                   1230 non-null   object \n",
      " 28  gender                                 2597 non-null   object \n",
      " 29  has_degree                             2600 non-null   float64\n",
      " 30  Has_dependents                         2543 non-null   float64\n",
      " 31  has_worked_5+_years                    2206 non-null   float64\n",
      " 32  IMD_decile                             2318 non-null   float64\n",
      " 33  Is_30_or_over                          2602 non-null   int64  \n",
      " 34  Is_disabled                            2602 non-null   int64  \n",
      " 35  is_EAL                                 2602 non-null   int64  \n",
      " 36  is_ethnic_minority                     2511 non-null   float64\n",
      " 37  is_LGBTQ+                              2153 non-null   float64\n",
      " 38  is_lone_parent                         2313 non-null   float64\n",
      " 39  is_low_socio_econ                      1406 non-null   float64\n",
      " 40  is_unempl_12+_mths                     2203 non-null   float64\n",
      " 41  is_unemployed_pre_gen                  2203 non-null   float64\n",
      " 42  is_unsatisfied_empl_pre_gen            2034 non-null   float64\n",
      " 43  Job_start_speed                        1279 non-null   float64\n",
      " 44  learnerSpecialNeedsDetails             478 non-null    object \n",
      " 45  postCode                               2596 non-null   object \n",
      " 46  PostGenAspirationPosition              1989 non-null   object \n",
      " 47  raceEthnicity                          2512 non-null   object \n",
      " 48  reasonUnemployedPreGen                 1921 non-null   object \n",
      " 49  refugeeStat                            1958 non-null   object \n",
      " 50  religion                               1920 non-null   object \n",
      " 51  socioeconStatus                        2043 non-null   object \n",
      " 52  socioeconStatusMap                     1695 non-null   object \n",
      " 53  Unemployment_length                    2203 non-null   object \n",
      " 54  Cohort Name_SF                         2602 non-null   object \n",
      " 55  Original Risk Level                    2304 non-null   object \n",
      " 56  Risk Level                             2602 non-null   object \n",
      " 57  Graduation Date                        2602 non-null   object \n",
      " 58  Days Since Cohort Graduation           2602 non-null   int64  \n",
      " 59  Total Attendance Taken                 2602 non-null   int64  \n",
      " 60  Total Days Absent                      2602 non-null   int64  \n",
      " 61  Total Days Late                        2602 non-null   int64  \n",
      " 62  Average Score - Soft Skills            1332 non-null   float64\n",
      " 63  Average Score - Technical Skills       1332 non-null   float64\n",
      "dtypes: float64(19), int64(9), object(36)\n",
      "memory usage: 1.3+ MB\n"
     ]
    }
   ],
   "source": [
    "gen_df.info()"
   ]
  },
  {
   "cell_type": "code",
   "execution_count": null,
   "id": "d76ca148-a1f6-417e-9392-56426a050816",
   "metadata": {},
   "outputs": [],
   "source": []
  },
  {
   "cell_type": "code",
   "execution_count": null,
   "id": "59220760-b73a-41bf-b523-3099128b5e7a",
   "metadata": {},
   "outputs": [],
   "source": []
  },
  {
   "cell_type": "code",
   "execution_count": null,
   "id": "4dacdf8c-424e-43bb-896f-52634816dfc5",
   "metadata": {},
   "outputs": [],
   "source": []
  },
  {
   "cell_type": "code",
   "execution_count": 79,
   "id": "20c3326e-c27a-4737-a075-8763aa09720a",
   "metadata": {},
   "outputs": [],
   "source": [
    "gen_df= pd.read_csv(\"Gen_Data/GenData_ANONYMISED_Feb2024 - Export.csv\")"
   ]
  },
  {
   "cell_type": "code",
   "execution_count": 80,
   "id": "02d935d5-a798-464b-827e-167e85d5390f",
   "metadata": {},
   "outputs": [
    {
     "data": {
      "text/html": [
       "<div>\n",
       "<style scoped>\n",
       "    .dataframe tbody tr th:only-of-type {\n",
       "        vertical-align: middle;\n",
       "    }\n",
       "\n",
       "    .dataframe tbody tr th {\n",
       "        vertical-align: top;\n",
       "    }\n",
       "\n",
       "    .dataframe thead th {\n",
       "        text-align: right;\n",
       "    }\n",
       "</style>\n",
       "<table border=\"1\" class=\"dataframe\">\n",
       "  <thead>\n",
       "    <tr style=\"text-align: right;\">\n",
       "      <th></th>\n",
       "      <th>ProgramName</th>\n",
       "      <th>Cohort_name</th>\n",
       "      <th>Student_ID</th>\n",
       "      <th>Age_at_application</th>\n",
       "      <th>appliedBefore</th>\n",
       "      <th>areaLocal</th>\n",
       "      <th>asylumSeeker</th>\n",
       "      <th>Barriers value</th>\n",
       "      <th>birthDate</th>\n",
       "      <th>Cohort_City</th>\n",
       "      <th>...</th>\n",
       "      <th>postCode</th>\n",
       "      <th>PostGenAspirationPosition</th>\n",
       "      <th>refugeeStat</th>\n",
       "      <th>religion</th>\n",
       "      <th>sexualityInfo</th>\n",
       "      <th>socioeconStatus</th>\n",
       "      <th>socioeconStatusMap</th>\n",
       "      <th>Unemployment_length</th>\n",
       "      <th>wellbeingConfidence</th>\n",
       "      <th>WellbeingConfidenceBaseline</th>\n",
       "    </tr>\n",
       "  </thead>\n",
       "  <tbody>\n",
       "    <tr>\n",
       "      <th>0</th>\n",
       "      <td>ACC - IT Support</td>\n",
       "      <td>ACC-ITS-X1-BLM</td>\n",
       "      <td>582763</td>\n",
       "      <td>25.0</td>\n",
       "      <td>Yes</td>\n",
       "      <td>I live in a different area</td>\n",
       "      <td>No</td>\n",
       "      <td>4</td>\n",
       "      <td>1995-12-28</td>\n",
       "      <td>Nationwide</td>\n",
       "      <td>...</td>\n",
       "      <td>SS155LT</td>\n",
       "      <td>An entry-level position (typically for 0-1 yea...</td>\n",
       "      <td>No</td>\n",
       "      <td>Christian (including Church of England, Cathol...</td>\n",
       "      <td>Heterosexual (straight)</td>\n",
       "      <td>Modern professional &amp; traditional professional...</td>\n",
       "      <td>Professional backgrounds</td>\n",
       "      <td>Not applicable</td>\n",
       "      <td>NaN</td>\n",
       "      <td>NaN</td>\n",
       "    </tr>\n",
       "    <tr>\n",
       "      <th>1</th>\n",
       "      <td>ACC - IT Support</td>\n",
       "      <td>ACC-ITS-X1-BLM</td>\n",
       "      <td>579826</td>\n",
       "      <td>44.0</td>\n",
       "      <td>Yes</td>\n",
       "      <td>I live in a different area</td>\n",
       "      <td>No</td>\n",
       "      <td>3</td>\n",
       "      <td>1977-03-17</td>\n",
       "      <td>Nationwide</td>\n",
       "      <td>...</td>\n",
       "      <td>BB88DW</td>\n",
       "      <td>An entry-level position (typically for 0-1 yea...</td>\n",
       "      <td>No</td>\n",
       "      <td>Choose not to say</td>\n",
       "      <td>Heterosexual (straight)</td>\n",
       "      <td>Small business owners who employed less than 2...</td>\n",
       "      <td>Intermediate backgrounds</td>\n",
       "      <td>Not applicable</td>\n",
       "      <td>NaN</td>\n",
       "      <td>NaN</td>\n",
       "    </tr>\n",
       "    <tr>\n",
       "      <th>2</th>\n",
       "      <td>ACC - IT Support</td>\n",
       "      <td>ACC-ITS-X1-BLM</td>\n",
       "      <td>577847</td>\n",
       "      <td>29.0</td>\n",
       "      <td>Yes</td>\n",
       "      <td>London Region - Tower Hamlets</td>\n",
       "      <td>No</td>\n",
       "      <td>4</td>\n",
       "      <td>1992-07-24</td>\n",
       "      <td>Nationwide</td>\n",
       "      <td>...</td>\n",
       "      <td>E33BS</td>\n",
       "      <td>An entry-level position (typically for 0-1 yea...</td>\n",
       "      <td>No</td>\n",
       "      <td>Muslim</td>\n",
       "      <td>Heterosexual (straight)</td>\n",
       "      <td>Small business owners who employed less than 2...</td>\n",
       "      <td>Intermediate backgrounds</td>\n",
       "      <td>Not applicable</td>\n",
       "      <td>NaN</td>\n",
       "      <td>NaN</td>\n",
       "    </tr>\n",
       "    <tr>\n",
       "      <th>3</th>\n",
       "      <td>ACC - IT Support</td>\n",
       "      <td>ACC-ITS-X1-BLM</td>\n",
       "      <td>595952</td>\n",
       "      <td>53.0</td>\n",
       "      <td>Yes</td>\n",
       "      <td>London Region - Havering</td>\n",
       "      <td>No</td>\n",
       "      <td>2</td>\n",
       "      <td>1968-10-06</td>\n",
       "      <td>Nationwide</td>\n",
       "      <td>...</td>\n",
       "      <td>RM113AS</td>\n",
       "      <td>An intermediate level position (typically 1-3 ...</td>\n",
       "      <td>No</td>\n",
       "      <td>Muslim</td>\n",
       "      <td>Heterosexual (straight)</td>\n",
       "      <td>Modern professional &amp; traditional professional...</td>\n",
       "      <td>Professional backgrounds</td>\n",
       "      <td>Not applicable</td>\n",
       "      <td>NaN</td>\n",
       "      <td>NaN</td>\n",
       "    </tr>\n",
       "    <tr>\n",
       "      <th>4</th>\n",
       "      <td>ACC - IT Support</td>\n",
       "      <td>ACC-ITS-X1-BLM</td>\n",
       "      <td>595718</td>\n",
       "      <td>39.0</td>\n",
       "      <td>Yes</td>\n",
       "      <td>West Midlands Region - Walsall</td>\n",
       "      <td>No</td>\n",
       "      <td>1</td>\n",
       "      <td>1982-04-18</td>\n",
       "      <td>Nationwide</td>\n",
       "      <td>...</td>\n",
       "      <td>WS33HW</td>\n",
       "      <td>A first-level management position (typically 5...</td>\n",
       "      <td>No</td>\n",
       "      <td>Christian (including Church of England, Cathol...</td>\n",
       "      <td>Heterosexual (straight)</td>\n",
       "      <td>Modern professional &amp; traditional professional...</td>\n",
       "      <td>Professional backgrounds</td>\n",
       "      <td>Not applicable</td>\n",
       "      <td>NaN</td>\n",
       "      <td>NaN</td>\n",
       "    </tr>\n",
       "  </tbody>\n",
       "</table>\n",
       "<p>5 rows × 58 columns</p>\n",
       "</div>"
      ],
      "text/plain": [
       "        ProgramName     Cohort_name  Student_ID  Age_at_application  \\\n",
       "0  ACC - IT Support  ACC-ITS-X1-BLM      582763                25.0   \n",
       "1  ACC - IT Support  ACC-ITS-X1-BLM      579826                44.0   \n",
       "2  ACC - IT Support  ACC-ITS-X1-BLM      577847                29.0   \n",
       "3  ACC - IT Support  ACC-ITS-X1-BLM      595952                53.0   \n",
       "4  ACC - IT Support  ACC-ITS-X1-BLM      595718                39.0   \n",
       "\n",
       "  appliedBefore                       areaLocal asylumSeeker  Barriers value  \\\n",
       "0           Yes      I live in a different area           No               4   \n",
       "1           Yes      I live in a different area           No               3   \n",
       "2           Yes   London Region - Tower Hamlets           No               4   \n",
       "3           Yes        London Region - Havering           No               2   \n",
       "4           Yes  West Midlands Region - Walsall           No               1   \n",
       "\n",
       "    birthDate Cohort_City  ... postCode  \\\n",
       "0  1995-12-28  Nationwide  ...  SS155LT   \n",
       "1  1977-03-17  Nationwide  ...   BB88DW   \n",
       "2  1992-07-24  Nationwide  ...    E33BS   \n",
       "3  1968-10-06  Nationwide  ...  RM113AS   \n",
       "4  1982-04-18  Nationwide  ...   WS33HW   \n",
       "\n",
       "                           PostGenAspirationPosition refugeeStat  \\\n",
       "0  An entry-level position (typically for 0-1 yea...          No   \n",
       "1  An entry-level position (typically for 0-1 yea...          No   \n",
       "2  An entry-level position (typically for 0-1 yea...          No   \n",
       "3  An intermediate level position (typically 1-3 ...          No   \n",
       "4  A first-level management position (typically 5...          No   \n",
       "\n",
       "                                            religion            sexualityInfo  \\\n",
       "0  Christian (including Church of England, Cathol...  Heterosexual (straight)   \n",
       "1                                  Choose not to say  Heterosexual (straight)   \n",
       "2                                             Muslim  Heterosexual (straight)   \n",
       "3                                             Muslim  Heterosexual (straight)   \n",
       "4  Christian (including Church of England, Cathol...  Heterosexual (straight)   \n",
       "\n",
       "                                     socioeconStatus  \\\n",
       "0  Modern professional & traditional professional...   \n",
       "1  Small business owners who employed less than 2...   \n",
       "2  Small business owners who employed less than 2...   \n",
       "3  Modern professional & traditional professional...   \n",
       "4  Modern professional & traditional professional...   \n",
       "\n",
       "         socioeconStatusMap Unemployment_length wellbeingConfidence  \\\n",
       "0  Professional backgrounds      Not applicable                 NaN   \n",
       "1  Intermediate backgrounds      Not applicable                 NaN   \n",
       "2  Intermediate backgrounds      Not applicable                 NaN   \n",
       "3  Professional backgrounds      Not applicable                 NaN   \n",
       "4  Professional backgrounds      Not applicable                 NaN   \n",
       "\n",
       "  WellbeingConfidenceBaseline  \n",
       "0                         NaN  \n",
       "1                         NaN  \n",
       "2                         NaN  \n",
       "3                         NaN  \n",
       "4                         NaN  \n",
       "\n",
       "[5 rows x 58 columns]"
      ]
     },
     "execution_count": 80,
     "metadata": {},
     "output_type": "execute_result"
    }
   ],
   "source": [
    "gen_df.head()"
   ]
  },
  {
   "cell_type": "code",
   "execution_count": 81,
   "id": "f4778e25-7b82-4686-9980-5739a2cce9df",
   "metadata": {},
   "outputs": [
    {
     "data": {
      "text/plain": [
       "Index(['ProgramName', 'Cohort_name', 'Student_ID', 'Age_at_application',\n",
       "       'appliedBefore', 'areaLocal', 'asylumSeeker', 'Barriers value',\n",
       "       'birthDate', 'Cohort_City', 'Current_Employer_Name',\n",
       "       'Current_placement_aligned_to_training', 'Current_position',\n",
       "       'education', 'Education level', 'educationStatusAtApplication',\n",
       "       'Employer_Name_1', 'Employment_Status', 'employmentAttemptPreGen',\n",
       "       'employmentHoursPreGen', 'employmentIndustryPreGen',\n",
       "       'employmentSatisfactionPreGen', 'employmentStatusPreGen',\n",
       "       'employmentTypePreGen', 'englishFirstLanguage', 'Ethnicity_Group',\n",
       "       'Financial_Situation_PostGen', 'financialSituationPreGen',\n",
       "       'First_placement_by_gen', 'First_Placement_Date', 'gender',\n",
       "       'has_degree', 'Has_dependents', 'has_not_entry_level_ambition',\n",
       "       'has_worked_5+_years', 'IMD_decile', 'Is_30_or_over', 'Is_disabled',\n",
       "       'is_EAL', 'is_ethnic_minority', 'is_IE_EU_citizen', 'is_LGBTQ+',\n",
       "       'is_lone_parent', 'is_low_socio_econ', 'is_unempl_12+_mths',\n",
       "       'is_unemployed_pre_gen', 'is_unsatisfied_empl_pre_gen',\n",
       "       'learnerSpecialNeedsDetails', 'postCode', 'PostGenAspirationPosition',\n",
       "       'refugeeStat', 'religion', 'sexualityInfo', 'socioeconStatus',\n",
       "       'socioeconStatusMap', 'Unemployment_length', 'wellbeingConfidence',\n",
       "       'WellbeingConfidenceBaseline'],\n",
       "      dtype='object')"
      ]
     },
     "execution_count": 81,
     "metadata": {},
     "output_type": "execute_result"
    }
   ],
   "source": [
    "gen_df.columns"
   ]
  },
  {
   "cell_type": "code",
   "execution_count": 82,
   "id": "5c8045ab-f0b7-4cac-b6d3-c7c7cd07f9b2",
   "metadata": {},
   "outputs": [
    {
     "name": "stdout",
     "output_type": "stream",
     "text": [
      "<class 'pandas.core.frame.DataFrame'>\n",
      "RangeIndex: 1321 entries, 0 to 1320\n",
      "Data columns (total 58 columns):\n",
      " #   Column                                 Non-Null Count  Dtype  \n",
      "---  ------                                 --------------  -----  \n",
      " 0   ProgramName                            1321 non-null   object \n",
      " 1   Cohort_name                            1321 non-null   object \n",
      " 2   Student_ID                             1321 non-null   int64  \n",
      " 3   Age_at_application                     1311 non-null   float64\n",
      " 4   appliedBefore                          622 non-null    object \n",
      " 5   areaLocal                              1233 non-null   object \n",
      " 6   asylumSeeker                           960 non-null    object \n",
      " 7   Barriers value                         1321 non-null   int64  \n",
      " 8   birthDate                              1317 non-null   object \n",
      " 9   Cohort_City                            1240 non-null   object \n",
      " 10  Current_Employer_Name                  533 non-null    object \n",
      " 11  Current_placement_aligned_to_training  418 non-null    float64\n",
      " 12  Current_position                       1240 non-null   object \n",
      " 13  education                              1319 non-null   object \n",
      " 14  Education level                        1319 non-null   object \n",
      " 15  educationStatusAtApplication           1212 non-null   object \n",
      " 16  Employer_Name_1                        529 non-null    object \n",
      " 17  Employment_Status                      930 non-null    object \n",
      " 18  employmentAttemptPreGen                872 non-null    object \n",
      " 19  employmentHoursPreGen                  226 non-null    object \n",
      " 20  employmentIndustryPreGen               1113 non-null   object \n",
      " 21  employmentSatisfactionPreGen           1143 non-null   object \n",
      " 22  employmentStatusPreGen                 1307 non-null   object \n",
      " 23  employmentTypePreGen                   1319 non-null   object \n",
      " 24  englishFirstLanguage                   935 non-null    object \n",
      " 25  Ethnicity_Group                        1240 non-null   object \n",
      " 26  Financial_Situation_PostGen            207 non-null    object \n",
      " 27  financialSituationPreGen               1194 non-null   object \n",
      " 28  First_placement_by_gen                 446 non-null    float64\n",
      " 29  First_Placement_Date                   509 non-null    object \n",
      " 30  gender                                 1317 non-null   object \n",
      " 31  has_degree                             1319 non-null   float64\n",
      " 32  Has_dependents                         1292 non-null   float64\n",
      " 33  has_not_entry_level_ambition           1139 non-null   float64\n",
      " 34  has_worked_5+_years                    1228 non-null   float64\n",
      " 35  IMD_decile                             1082 non-null   float64\n",
      " 36  Is_30_or_over                          1321 non-null   int64  \n",
      " 37  Is_disabled                            1321 non-null   int64  \n",
      " 38  is_EAL                                 1321 non-null   int64  \n",
      " 39  is_ethnic_minority                     1240 non-null   float64\n",
      " 40  is_IE_EU_citizen                       49 non-null     float64\n",
      " 41  is_LGBTQ+                              1114 non-null   float64\n",
      " 42  is_lone_parent                         1226 non-null   float64\n",
      " 43  is_low_socio_econ                      804 non-null    float64\n",
      " 44  is_unempl_12+_mths                     1147 non-null   float64\n",
      " 45  is_unemployed_pre_gen                  1147 non-null   float64\n",
      " 46  is_unsatisfied_empl_pre_gen            1143 non-null   float64\n",
      " 47  learnerSpecialNeedsDetails             238 non-null    object \n",
      " 48  postCode                               1316 non-null   object \n",
      " 49  PostGenAspirationPosition              1139 non-null   object \n",
      " 50  refugeeStat                            960 non-null    object \n",
      " 51  religion                               1120 non-null   object \n",
      " 52  sexualityInfo                          1202 non-null   object \n",
      " 53  socioeconStatus                        1183 non-null   object \n",
      " 54  socioeconStatusMap                     982 non-null    object \n",
      " 55  Unemployment_length                    1147 non-null   object \n",
      " 56  wellbeingConfidence                    90 non-null     object \n",
      " 57  WellbeingConfidenceBaseline            746 non-null    object \n",
      "dtypes: float64(16), int64(5), object(37)\n",
      "memory usage: 598.7+ KB\n"
     ]
    }
   ],
   "source": [
    "gen_df.info()"
   ]
  },
  {
   "cell_type": "markdown",
   "id": "3b826a82-fdbf-466c-b0e9-b9ee616d6287",
   "metadata": {},
   "source": [
    "[['ProgramName', 'Cohort_name', 'Student_ID', 'Age_at_application',\n",
    "       'appliedBefore', 'areaLocal', 'asylumSeeker', 'Barriers value',\n",
    "       'birthDate', 'Cohort_City', 'Current_Employer_Name',\n",
    "       'Current_placement_aligned_to_training', 'Current_position',\n",
    "       'education', 'Education level', 'educationStatusAtApplication',\n",
    "       'Employer_Name_1', 'Employment_Status', 'employmentAttemptPreGen',\n",
    "       'employmentHoursPreGen', 'employmentIndustryPreGen',\n",
    "       'employmentSatisfactionPreGen', 'employmentStatusPreGen',\n",
    "       'employmentTypePreGen', 'englishFirstLanguage', 'Ethnicity_Group',\n",
    "       'Financial_Situation_PostGen', 'financialSituationPreGen',\n",
    "       'First_placement_by_gen', 'First_Placement_Date', 'gender',\n",
    "       'has_degree', 'Has_dependents', 'has_not_entry_level_ambition',\n",
    "       'has_worked_5+_years', 'IMD_decile', 'Is_30_or_over', 'Is_disabled',\n",
    "       'is_EAL', 'is_ethnic_minority', 'is_IE_EU_citizen', 'is_LGBTQ+',\n",
    "       'is_lone_parent', 'is_low_socio_econ', 'is_unempl_12+_mths',\n",
    "       'is_unemployed_pre_gen', 'is_unsatisfied_empl_pre_gen',\n",
    "       'learnerSpecialNeedsDetails', 'postCode', 'PostGenAspirationPosition',\n",
    "       'refugeeStat', 'religion', 'sexualityInfo', 'socioeconStatus',\n",
    "       'socioeconStatusMap', 'Unemployment_length', 'wellbeingConfidence',\n",
    "       'WellbeingConfidenceBaseline']]"
   ]
  },
  {
   "cell_type": "code",
   "execution_count": 83,
   "id": "14c16368-b76f-437d-b828-8fa756c1ffc0",
   "metadata": {
    "scrolled": true
   },
   "outputs": [
    {
     "data": {
      "text/plain": [
       "learnerSpecialNeedsDetails\n",
       "No                                                                                                                                                                                               23\n",
       "Dyslexia                                                                                                                                                                                         19\n",
       "Not applicable                                                                                                                                                                                   14\n",
       "NONE                                                                                                                                                                                              9\n",
       "Depression                                                                                                                                                                                        7\n",
       "                                                                                                                                                                                                 ..\n",
       "Depression, anxiety, asthma, fibromyalgia, GERDS, IBS, siatica                                                                                                                                    1\n",
       "Sleep disorder and Anxiety                                                                                                                                                                        1\n",
       "adhd, anxiety and depression                                                                                                                                                                      1\n",
       "migraines                                                                                                                                                                                         1\n",
       "Social anxiety (can cause a lack of confidence), and Klinefelter Syndrome. this can cause a multitude of things to Flare up at random times. i.e. tiredness/fatigue, depression, and anxiety.     1\n",
       "Name: count, Length: 143, dtype: int64"
      ]
     },
     "execution_count": 83,
     "metadata": {},
     "output_type": "execute_result"
    }
   ],
   "source": [
    "gen_df[\"learnerSpecialNeedsDetails\"].value_counts()"
   ]
  },
  {
   "cell_type": "markdown",
   "id": "db8a7a82-93a8-44e5-942b-292cdb510050",
   "metadata": {},
   "source": [
    "NOTE: Text analysis could be good for the following features:\n",
    "- learnerSpecialNeedsDetails\n",
    "- "
   ]
  },
  {
   "cell_type": "code",
   "execution_count": 84,
   "id": "731a5fc2-7dcd-497a-b93a-40abd007b457",
   "metadata": {},
   "outputs": [
    {
     "data": {
      "text/plain": [
       "<Axes: xlabel='Barriers value', ylabel='Count'>"
      ]
     },
     "execution_count": 84,
     "metadata": {},
     "output_type": "execute_result"
    },
    {
     "data": {
      "image/png": "[encoded data removed]",
      "text/plain": [
       "<Figure size 640x480 with 1 Axes>"
      ]
     },
     "metadata": {},
     "output_type": "display_data"
    }
   ],
   "source": [
    "sns.histplot(data= gen_df, x=\"Barriers value\")"
   ]
  },
  {
   "cell_type": "code",
   "execution_count": 85,
   "id": "8acdbaba-95f3-485b-957f-cfd94847c5ff",
   "metadata": {},
   "outputs": [
    {
     "data": {
      "image/png": "[encoded data removed]",
      "text/plain": [
       "<Figure size 640x480 with 1 Axes>"
      ]
     },
     "metadata": {},
     "output_type": "display_data"
    }
   ],
   "source": [
    "sns.histplot(data= gen_df, \n",
    "             x=\"Barriers value\", \n",
    "             hue=\"Employment_Status\",\n",
    "             multiple=\"stack\")\n",
    "\n",
    "plt.title(\"Number of barriers count + Employment status\")\n",
    "plt.show()"
   ]
  },
  {
   "cell_type": "code",
   "execution_count": 86,
   "id": "545ca7a0-21cf-4e87-9efc-90e6e6b9a901",
   "metadata": {},
   "outputs": [
    {
     "data": {
      "text/plain": [
       "Employment_Status\n",
       "Employed      445\n",
       "Unemployed    364\n",
       "Opted Out      79\n",
       "Unknown        36\n",
       "Placed          6\n",
       "Name: count, dtype: int64"
      ]
     },
     "execution_count": 86,
     "metadata": {},
     "output_type": "execute_result"
    }
   ],
   "source": [
    "gen_df[\"Employment_Status\"].value_counts()"
   ]
  },
  {
   "cell_type": "code",
   "execution_count": 87,
   "id": "b2bc1a99-d32d-45f5-a755-67372ab1a35b",
   "metadata": {},
   "outputs": [
    {
     "data": {
      "image/png": "[encoded data removed]",
      "text/plain": [
       "<Figure size 640x480 with 1 Axes>"
      ]
     },
     "metadata": {},
     "output_type": "display_data"
    }
   ],
   "source": [
    "sns.histplot(gen_df[gen_df[\"Cohort_name\"] == \"DA-LEE1\"], x= \"Barriers value\")\n",
    "plt.title(\"Barriers spread for DA-LEE1\")\n",
    "plt.show()"
   ]
  },
  {
   "cell_type": "code",
   "execution_count": 88,
   "id": "b865d95f-cc92-47c6-89e1-d352b4423a95",
   "metadata": {},
   "outputs": [
    {
     "data": {
      "image/png": "[encoded data removed]",
      "text/plain": [
       "<Figure size 640x480 with 1 Axes>"
      ]
     },
     "metadata": {},
     "output_type": "display_data"
    }
   ],
   "source": [
    "sns.histplot(gen_df[gen_df[\"ProgramName\"] == \"Data Analytics\"], x= \"Barriers value\")\n",
    "plt.title(\"Aggregate barriers spread for data analytics cohorts\")\n",
    "plt.show()"
   ]
  },
  {
   "cell_type": "code",
   "execution_count": 89,
   "id": "bb375aea-1b81-41af-b403-201ab427add8",
   "metadata": {},
   "outputs": [
    {
     "data": {
      "image/png": "[encoded data removed]",
      "text/plain": [
       "<Figure size 640x480 with 1 Axes>"
      ]
     },
     "metadata": {},
     "output_type": "display_data"
    }
   ],
   "source": [
    "sns.histplot(gen_df[gen_df[\"ProgramName\"] == \"Customer Support\"], x= \"Barriers value\")\n",
    "plt.title(\"Aggregate barriers spread for Customer Support cohorts\")\n",
    "plt.show()"
   ]
  },
  {
   "cell_type": "markdown",
   "id": "95413b6c-7eef-4c5d-9e7b-733f3c2921ec",
   "metadata": {},
   "source": []
  },
  {
   "cell_type": "code",
   "execution_count": 90,
   "id": "b01ee90f-c868-47c6-8163-e14340004110",
   "metadata": {},
   "outputs": [
    {
     "data": {
      "text/plain": [
       "Text(0.5, 1.0, 'Number of barriers count + Programme name')"
      ]
     },
     "execution_count": 90,
     "metadata": {},
     "output_type": "execute_result"
    },
    {
     "data": {
      "image/png": "[encoded data removed]",
      "text/plain": [
       "<Figure size 640x480 with 1 Axes>"
      ]
     },
     "metadata": {},
     "output_type": "display_data"
    }
   ],
   "source": [
    "sns.histplot(data= gen_df, \n",
    "             x=\"Barriers value\", \n",
    "             hue=\"ProgramName\",\n",
    "             multiple=\"stack\")\n",
    "\n",
    "plt.title(\"Number of barriers count + Programme name\")"
   ]
  },
  {
   "cell_type": "code",
   "execution_count": 91,
   "id": "260da0e1-6667-49aa-b220-b464baab3196",
   "metadata": {},
   "outputs": [
    {
     "data": {
      "text/plain": [
       "510"
      ]
     },
     "execution_count": 91,
     "metadata": {},
     "output_type": "execute_result"
    }
   ],
   "source": [
    "total_EAL = gen_df[\"is_EAL\"][gen_df[\"is_EAL\"]==1].count()\n",
    "total_EAL"
   ]
  },
  {
   "cell_type": "code",
   "execution_count": 92,
   "id": "408a2dcb-a77f-49fe-9fb9-006b57514063",
   "metadata": {},
   "outputs": [
    {
     "data": {
      "text/plain": [
       "Text(0.5, 1.0, 'Employment status count + EAL')"
      ]
     },
     "execution_count": 92,
     "metadata": {},
     "output_type": "execute_result"
    },
    {
     "data": {
      "image/png": "[encoded data removed]",
      "text/plain": [
       "<Figure size 640x480 with 1 Axes>"
      ]
     },
     "metadata": {},
     "output_type": "display_data"
    }
   ],
   "source": [
    "# How does EAL relate to post-bootcamp placement?\n",
    "\n",
    "\n",
    "sns.histplot(data= gen_df, \n",
    "             x=\"Employment_Status\", \n",
    "             hue=\"is_EAL\",\n",
    "             multiple=\"dodge\",\n",
    "             shrink=.8)\n",
    "\n",
    "plt.title(\"Employment status count + EAL\")"
   ]
  },
  {
   "cell_type": "code",
   "execution_count": 93,
   "id": "5f2d0959-9dfe-4932-a0b8-ab12ba9abae5",
   "metadata": {},
   "outputs": [
    {
     "data": {
      "text/plain": [
       "Text(0.5, 1.0, 'Employment status count + EAL')"
      ]
     },
     "execution_count": 93,
     "metadata": {},
     "output_type": "execute_result"
    },
    {
     "data": {
      "image/png": "[encoded data removed]",
      "text/plain": [
       "<Figure size 640x480 with 1 Axes>"
      ]
     },
     "metadata": {},
     "output_type": "display_data"
    }
   ],
   "source": [
    "# How does EAL relate to post-bootcamp placement?\n",
    "\n",
    "\n",
    "sns.histplot(data= gen_df, \n",
    "             x=\"Employment_Status\", \n",
    "             hue=\"is_EAL\",\n",
    "             multiple=\"dodge\",\n",
    "             stat=\"density\",\n",
    "             common_norm=False,\n",
    "             shrink=.8)\n",
    "\n",
    "plt.title(\"Employment status count + EAL\")"
   ]
  },
  {
   "cell_type": "code",
   "execution_count": 94,
   "id": "dc19f3a3-8922-4f93-b6a6-16ad26057e34",
   "metadata": {},
   "outputs": [
    {
     "data": {
      "text/plain": [
       "Text(0.5, 1.0, 'Employment status count + EAL')"
      ]
     },
     "execution_count": 94,
     "metadata": {},
     "output_type": "execute_result"
    },
    {
     "data": {
      "image/png": "[encoded data removed]",
      "text/plain": [
       "<Figure size 640x480 with 1 Axes>"
      ]
     },
     "metadata": {},
     "output_type": "display_data"
    }
   ],
   "source": [
    "sns.histplot(data= gen_df, \n",
    "             x=\"is_EAL\")\n",
    "\n",
    "plt.title(\"Employment status count + EAL\")"
   ]
  },
  {
   "cell_type": "code",
   "execution_count": 95,
   "id": "f67a0847-6842-494f-9aa0-4775f051e832",
   "metadata": {},
   "outputs": [
    {
     "data": {
      "image/png": "[encoded data removed]",
      "text/plain": [
       "<Figure size 640x480 with 1 Axes>"
      ]
     },
     "metadata": {},
     "output_type": "display_data"
    }
   ],
   "source": [
    "sns.countplot(y=gen_df[\"ProgramName\"])\n",
    "plt.title(\"Count of learners per programme\")\n",
    "plt.show()"
   ]
  },
  {
   "cell_type": "code",
   "execution_count": 96,
   "id": "74c5469f-bdf3-4078-89bb-b6c6afabe359",
   "metadata": {},
   "outputs": [
    {
     "data": {
      "image/png": "[encoded data removed]",
      "text/plain": [
       "<Figure size 640x480 with 1 Axes>"
      ]
     },
     "metadata": {},
     "output_type": "display_data"
    }
   ],
   "source": [
    "sns.histplot(y=gen_df[\"refugeeStat\"],\n",
    "             stat=\"density\",\n",
    "             common_norm=False)\n",
    "plt.title(\"Learners with refugee status - Normalised\")\n",
    "plt.show()\n",
    "\n",
    "# Less than 10% of learners state report they have refugee status"
   ]
  },
  {
   "cell_type": "code",
   "execution_count": 97,
   "id": "fd6accca-0ff7-4f81-84e5-8af97f99fef2",
   "metadata": {},
   "outputs": [],
   "source": [
    "import ipywidgets as widgets\n",
    "from ipywidgets import interact, interact_manual"
   ]
  },
  {
   "cell_type": "code",
   "execution_count": 98,
   "id": "181c9b9a-8d13-48d1-8d83-c3e14c559e09",
   "metadata": {},
   "outputs": [
    {
     "data": {
      "application/vnd.jupyter.widget-view+json": {
       "model_id": "818e2795d48d4f3ab1eacfe070443754",
       "version_major": 2,
       "version_minor": 0
      },
      "text/plain": [
       "interactive(children=(Dropdown(description='column', options=('ProgramName', 'Cohort_name', 'Student_ID', 'Age…"
      ]
     },
     "metadata": {},
     "output_type": "display_data"
    }
   ],
   "source": [
    "@interact\n",
    "def describe_col(column=list(gen_df.columns)):\n",
    "    print(gen_df[column].describe())"
   ]
  },
  {
   "cell_type": "code",
   "execution_count": 99,
   "id": "b9d67fc8-64e8-4554-9bb9-38d288d71e74",
   "metadata": {},
   "outputs": [],
   "source": [
    "gen_df[\"gender\"].replace(to_replace=[\"Other/Prefer to self describe\",\n",
    "                                           \"Other\",\n",
    "                                           \"Non-binary\",\n",
    "                                           \"Trans man\",\n",
    "                                           \"Choose not to identify\"],\n",
    "                               value= \"Other\",\n",
    "                               inplace=True)"
   ]
  },
  {
   "cell_type": "code",
   "execution_count": 100,
   "id": "2662bf0d-36be-4b69-8297-f93a7850e5e2",
   "metadata": {},
   "outputs": [],
   "source": [
    "gen_df[\"Employment_Status\"].replace(to_replace=\"Placed\",\n",
    "                               value= \"Employed\",\n",
    "                               inplace=True)"
   ]
  },
  {
   "cell_type": "code",
   "execution_count": 101,
   "id": "ba341881-6457-4cd7-8a2b-280665d1d7b2",
   "metadata": {
    "scrolled": true
   },
   "outputs": [],
   "source": [
    "# Cleaning is_lone_parent\n",
    "\n",
    "gen_df[\"is_lone_parent\"].fillna(0, inplace=True)"
   ]
  },
  {
   "cell_type": "code",
   "execution_count": 102,
   "id": "66722be0-70e2-41f1-884f-dcdaa9b08018",
   "metadata": {},
   "outputs": [],
   "source": [
    "# Cleaning Education Level in a way that maintains ordinality:\n",
    "\n",
    "gen_df[\"Education level\"].replace(to_replace=[\"Level 1\",\n",
    "                                           \"Level 2\",\n",
    "                                           \"Level 3\",\n",
    "                                           \"Level 4\",\n",
    "                                           \"Level 5\",\n",
    "                                           \"Level 6\",\n",
    "                                           \"Level 7\",\n",
    "                                           \"Level 8\",\n",
    "                                           \"Entry level\",\n",
    "                                           \"Other\"\n",
    "                                          ],\n",
    "                               value= [1, 2, 3, 4, 5, 6, 7, 8, None, None],\n",
    "                               inplace=True)"
   ]
  },
  {
   "cell_type": "code",
   "execution_count": 103,
   "id": "61205f83-d2b8-4913-b061-7aa1ddba0374",
   "metadata": {},
   "outputs": [
    {
     "data": {
      "text/plain": [
       "78"
      ]
     },
     "execution_count": 103,
     "metadata": {},
     "output_type": "execute_result"
    }
   ],
   "source": [
    "gen_df[\"Education level\"].isna().sum()"
   ]
  },
  {
   "cell_type": "code",
   "execution_count": 104,
   "id": "e3d6f14d-241e-42d6-b8cf-803ac14e575f",
   "metadata": {
    "scrolled": true
   },
   "outputs": [],
   "source": [
    "gen_df.dropna(subset=\"Education level\", inplace=True, axis=0)"
   ]
  },
  {
   "cell_type": "code",
   "execution_count": 105,
   "id": "01a2daa5-9328-4713-9bb9-17b911ae06cb",
   "metadata": {},
   "outputs": [
    {
     "data": {
      "text/plain": [
       "0"
      ]
     },
     "execution_count": 105,
     "metadata": {},
     "output_type": "execute_result"
    }
   ],
   "source": [
    "gen_df[\"Education level\"].isna().sum()"
   ]
  },
  {
   "cell_type": "code",
   "execution_count": 106,
   "id": "ed7c129d-fcc3-4966-95cd-02de0214c5da",
   "metadata": {
    "scrolled": true
   },
   "outputs": [],
   "source": [
    "# Cleaning Has_dependents:\n",
    "\n",
    "gen_df[\"Has_dependents\"].fillna(0, inplace=True)"
   ]
  },
  {
   "cell_type": "code",
   "execution_count": 107,
   "id": "6808bcc2-45f6-4600-9caf-fd9bc23f8fe1",
   "metadata": {},
   "outputs": [],
   "source": [
    "# Cleaning Age at application:\n",
    "\n",
    "gen_df[\"Age_at_application\"].fillna(gen_df[\"Age_at_application\"].median(), inplace=True)"
   ]
  },
  {
   "cell_type": "code",
   "execution_count": 109,
   "id": "219339e7-4aa1-4c07-b372-a09ff4763918",
   "metadata": {},
   "outputs": [
    {
     "data": {
      "application/vnd.jupyter.widget-view+json": {
       "model_id": "582c43b95f5043e8b1ebf70984f3e1af",
       "version_major": 2,
       "version_minor": 0
      },
      "text/plain": [
       "interactive(children=(Dropdown(description='column', options=('ProgramName', 'Cohort_name', 'Student_ID', 'Age…"
      ]
     },
     "metadata": {},
     "output_type": "display_data"
    }
   ],
   "source": [
    "@interact\n",
    "def histplot_col(column=list(gen_df.columns)):\n",
    "    sns.histplot(y=gen_df[column],\n",
    "             stat=\"density\",\n",
    "             common_norm=False)\n",
    "    \n",
    "    plt.title(f\"Histogram of {column}\")\n",
    "    plt.show()"
   ]
  },
  {
   "cell_type": "code",
   "execution_count": 110,
   "id": "c3c4bacc-983f-41ad-bd06-b03ec2b68e46",
   "metadata": {},
   "outputs": [
    {
     "data": {
      "text/plain": [
       "Text(0.5, 1.0, 'Employment status count + Education level')"
      ]
     },
     "execution_count": 110,
     "metadata": {},
     "output_type": "execute_result"
    },
    {
     "data": {
      "image/png": "[encoded data removed]",
      "text/plain": [
       "<Figure size 640x480 with 1 Axes>"
      ]
     },
     "metadata": {},
     "output_type": "display_data"
    }
   ],
   "source": [
    "# How does education level relate to post-bootcamp placement?\n",
    "\n",
    "\n",
    "sns.histplot(data= gen_df, \n",
    "             x=\"Employment_Status\", \n",
    "             hue=\"Education level\",\n",
    "             multiple=\"dodge\",\n",
    "             common_norm=False,\n",
    "             shrink=.8,\n",
    "             palette=\"colorblind\")\n",
    "\n",
    "plt.title(\"Employment status count + Education level\")"
   ]
  },
  {
   "cell_type": "markdown",
   "id": "e5b7ddd2-edcc-47ca-92a1-baa69b500d4c",
   "metadata": {},
   "source": [
    "People with L7 education are more often unemployed post-programme. This is different than the other educational categories and surprising since one might assume having more education will result in a higher chance of getting employed."
   ]
  },
  {
   "cell_type": "code",
   "execution_count": 111,
   "id": "26151aef-c82a-4371-944d-d6beed09ce34",
   "metadata": {},
   "outputs": [
    {
     "data": {
      "text/plain": [
       "[6.0, 3.0, 2.0, 4.0, 7.0, 5.0, 8.0, 1.0]"
      ]
     },
     "execution_count": 111,
     "metadata": {},
     "output_type": "execute_result"
    }
   ],
   "source": [
    "list(pd.unique(gen_df[\"Education level\"].values))"
   ]
  },
  {
   "cell_type": "code",
   "execution_count": 112,
   "id": "7cd10682-1350-4d5b-9e4f-79bddd583dd3",
   "metadata": {},
   "outputs": [
    {
     "data": {
      "application/vnd.jupyter.widget-view+json": {
       "model_id": "d6b72161fbb24fbf8ea9cbf66fc6c4d2",
       "version_major": 2,
       "version_minor": 0
      },
      "text/plain": [
       "interactive(children=(Dropdown(description='val', options=(6.0, 3.0, 2.0, 4.0, 7.0, 5.0, 8.0, 1.0), value=6.0)…"
      ]
     },
     "metadata": {},
     "output_type": "display_data"
    }
   ],
   "source": [
    "@interact\n",
    "\n",
    "def histplot_barriers_edu(val = list(pd.unique(gen_df[\"Education level\"].values))):\n",
    "    sns.histplot(data= gen_df[gen_df[\"Education level\"] == val], \n",
    "            y=\"Barriers value\",\n",
    "            hue=\"is_EAL\",\n",
    "            multiple=\"dodge\",\n",
    "            common_norm=False,\n",
    "            shrink=.8,\n",
    "            palette=\"colorblind\"\n",
    "            )\n",
    "    plt.title(\"Do people with EAL tend to have more barriers? Filter based on education level\")\n",
    "    plt.show()"
   ]
  },
  {
   "cell_type": "code",
   "execution_count": 113,
   "id": "7cac9678-8dc3-4d15-bf28-d1155ec88278",
   "metadata": {},
   "outputs": [
    {
     "data": {
      "image/png": "[encoded data removed]",
      "text/plain": [
       "<Figure size 4000x500 with 8 Axes>"
      ]
     },
     "metadata": {},
     "output_type": "display_data"
    }
   ],
   "source": [
    "sns.displot(data=gen_df,\n",
    "            x=\"Barriers value\",\n",
    "            col=\"Education level\",\n",
    "            kde=True)\n",
    "\n",
    "plt.show()"
   ]
  },
  {
   "cell_type": "code",
   "execution_count": 115,
   "id": "58b406a0-ceb6-46a5-b904-463d00de299a",
   "metadata": {},
   "outputs": [
    {
     "data": {
      "application/vnd.jupyter.widget-view+json": {
       "model_id": "745730fb1ba7471488c5f6a934117bce",
       "version_major": 2,
       "version_minor": 0
      },
      "text/plain": [
       "interactive(children=(Dropdown(description='column', options=('ProgramName', 'Cohort_name', 'Student_ID', 'Age…"
      ]
     },
     "metadata": {},
     "output_type": "display_data"
    }
   ],
   "source": [
    "@interact\n",
    "def histplot_col(column=list(gen_df.columns)):\n",
    "    sns.histplot(y=gen_df[column],\n",
    "             hue=gen_df[\"IMD_decile\"],\n",
    "             multiple=\"dodge\",\n",
    "             shrink=.8\n",
    "            )\n",
    "    \n",
    "    plt.title(f\"Histogram of {column}\")\n",
    "    plt.show()"
   ]
  },
  {
   "cell_type": "code",
   "execution_count": null,
   "id": "28568a0f-9039-4612-9fbb-231497a653d8",
   "metadata": {},
   "outputs": [],
   "source": [
    "['Cohort_name', 'Student_ID', ,\n",
    "                 'areaLocal', 'Barriers value', 'Cohort_City', \n",
    "                 'Current_Employer_Name', 'Current_position','education', \n",
    "                 'educationStatusAtApplication','Employment_Status', \n",
    "                 'employmentAttemptPreGen','employmentHoursPreGen', 'employmentIndustryPreGen','employmentSatisfactionPreGen', 'employmentStatusPreGen',\n",
    "                 'employmentTypePreGen', 'englishFirstLanguage', 'Ethnicity_Group',\n",
    "                 'Financial_Situation_PostGen', 'financialSituationPreGen', \n",
    "                 'First_Placement_Date','has_degree', 'Has_dependents', ,\n",
    "                 'has_worked_5+_years', 'IMD_decile', 'Is_30_or_over', 'Is_disabled','is_EAL', 'is_ethnic_minority', 'is_IE_EU_citizen', 'is_LGBTQ+',\n",
    "                 'is_lone_parent', 'is_low_socio_econ', 'is_unempl_12+_mths','is_unemployed_pre_gen', 'is_unsatisfied_empl_pre_gen',\n",
    "                 'learnerSpecialNeedsDetails', 'postCode', 'PostGenAspirationPosition','refugeeStat', 'religion', 'sexualityInfo', 'socioeconStatus',\n",
    "                 'socioeconStatusMap', 'Unemployment_length', 'wellbeingConfidence','WellbeingConfidenceBaseline']"
   ]
  },
  {
   "cell_type": "code",
   "execution_count": null,
   "id": "1b2b7dea-f6c2-420f-b6a1-6a4e55a13afe",
   "metadata": {},
   "outputs": [],
   "source": []
  },
  {
   "cell_type": "markdown",
   "id": "28c433eb-d0d8-44b4-b2f9-93926e36c91c",
   "metadata": {},
   "source": [
    "Cleaning still needed:\n",
    "- Clean 'Education level' feature\n",
    "- Check gender feature (done, options are now male, female, other)\n",
    "- What is the difference between wellbeingconfidence and wellbeing confidence baseline?\n",
    "- Clean employment status feature (Done, replaced \"placed\" with \"Employed\")\n",
    "- Find more continuous data (number of absences, transition tracker scores, grade for PL900 for DA, number of safeguarding concerns, 2021_job_density of the region they live in\n",
    "- Deal with education level imputation\n",
    "\n",
    "Questions:\n",
    "- Can I do PCA and will it be useful if I have mostly categorical data that is one hot encoded?"
   ]
  },
  {
   "cell_type": "code",
   "execution_count": null,
   "id": "0624ce35-876b-4f78-b378-2d4f6a19895e",
   "metadata": {},
   "outputs": [],
   "source": []
  },
  {
   "cell_type": "code",
   "execution_count": null,
   "id": "fe9c548c-6913-429c-87cf-e10937124ca4",
   "metadata": {},
   "outputs": [],
   "source": [
    "# Trialing PCA with the barriers information I have\n",
    "\n",
    "# I am not including employment status in this, I want to see if the principal components that are uncovered correlate at all to employment.\n",
    "\n",
    "X = gen_df[['ProgramName', \n",
    "                  'Cohort_City',\n",
    "                  \"Barriers value\",\n",
    "                  'Age_at_application', \n",
    "                  'Education level', \n",
    "                  'gender', \n",
    "                  'Has_dependents',\n",
    "                  'Is_disabled',\n",
    "                  'is_EAL',\n",
    "                  'is_lone_parent', \n",
    "                  'refugeeStat',\n",
    "                  'socioeconStatusMap',\n",
    "                  'Unemployment_length',\n",
    "                 ]]\n",
    "                  "
   ]
  },
  {
   "cell_type": "code",
   "execution_count": null,
   "id": "d9eb28ce-78e9-4070-8321-1a091e8c6531",
   "metadata": {},
   "outputs": [],
   "source": [
    "# Do one hot encoding\n",
    "X = pd.get_dummies(X)"
   ]
  },
  {
   "cell_type": "code",
   "execution_count": null,
   "id": "042f6d74-5d3a-476d-a862-81760ccd6615",
   "metadata": {},
   "outputs": [],
   "source": [
    "X.info()"
   ]
  },
  {
   "cell_type": "markdown",
   "id": "6a49de4e-4a34-4ffc-b3fe-47949b0f7753",
   "metadata": {},
   "source": [
    "I should not do PCA on a dataset that is mostly categorical features, I need to decide how else I will analyse data"
   ]
  },
  {
   "cell_type": "code",
   "execution_count": null,
   "id": "a587a5f7-5107-4bcb-a55b-96b5e3436583",
   "metadata": {},
   "outputs": [],
   "source": [
    "# standardise and scale the data ahead of pca:\n",
    "from sklearn.preprocessing import StandardScaler\n",
    "scale = StandardScaler()\n",
    "scaled_data = scale.fit_transform(X)\n",
    "scaled_data"
   ]
  },
  {
   "cell_type": "code",
   "execution_count": null,
   "id": "e465fa47-e227-4bc2-8bd1-932b4c58888a",
   "metadata": {},
   "outputs": [],
   "source": [
    "# now we need to convert the array back into a dataframe:\n",
    "column_names = X.columns.to_list()\n",
    "scaled_dataframe_X=pd.DataFrame(scaled_data, columns= column_names) "
   ]
  },
  {
   "cell_type": "code",
   "execution_count": null,
   "id": "377e58e6-293b-422a-bbd3-98a68899d5c3",
   "metadata": {},
   "outputs": [],
   "source": [
    "# Use daat.describe() to make sure the standardisation and scaling worked\n",
    "scaled_dataframe_X.describe()"
   ]
  },
  {
   "cell_type": "code",
   "execution_count": null,
   "id": "b04dd8aa-6039-49c0-b63d-2df4cd88703a",
   "metadata": {},
   "outputs": [],
   "source": [
    "scaled_dataframe_X.isna().sum()"
   ]
  },
  {
   "cell_type": "code",
   "execution_count": null,
   "id": "02b9aa79-41f6-4b05-85ff-64210e0c2857",
   "metadata": {},
   "outputs": [],
   "source": [
    "from sklearn.decomposition import PCA\n",
    "\n",
    "pca_model = PCA(n_components=4)"
   ]
  },
  {
   "cell_type": "code",
   "execution_count": null,
   "id": "ae68ae59-dae8-4674-84d4-8675254c4535",
   "metadata": {},
   "outputs": [],
   "source": [
    "PCA_components = pca_model.fit_transform(scaled_dataframe_X)\n",
    "\n",
    "# Now print the explained variance ratio which is an attriburte of the model object:\n",
    "print(pca_model.explained_variance_ratio_)"
   ]
  },
  {
   "cell_type": "code",
   "execution_count": null,
   "id": "2a80359e-337b-4077-903f-95a1e5ee8b5b",
   "metadata": {},
   "outputs": [],
   "source": [
    "# For the variable pca_components, put this into a dataframe such that there are 4 columns called PC1, PC2, PC3 and PC4.\n",
    "pca_dataframe = pd.DataFrame(PCA_components, columns=[\"PC1\", \"PC2\", \"PC3\", \"PC4\"])"
   ]
  },
  {
   "cell_type": "code",
   "execution_count": null,
   "id": "9db103d6-5f23-46fa-9cb3-365811b0fd41",
   "metadata": {},
   "outputs": [],
   "source": [
    "# Plot a scatter plot of the first two principal using the dataframe that you created above.\n",
    "import seaborn as sns\n",
    "import matplotlib.pyplot as plt\n",
    "\n",
    "plt.title(\"Principal components 1 and 2\")\n",
    "sns.scatterplot(data=pca_dataframe, \n",
    "                x=\"PC1\", \n",
    "                y=\"PC2\")\n",
    "plt.show()"
   ]
  },
  {
   "cell_type": "code",
   "execution_count": null,
   "id": "1b7328ff-1d8c-44f9-a960-a1055f36b887",
   "metadata": {},
   "outputs": [],
   "source": [
    "# Challenge: Using the first two principal components, can you use Hierarchical Clustering to get the appropriate amount of clusters?\n",
    "import scipy\n",
    "from scipy.cluster import hierarchy\n",
    "from scipy.cluster.hierarchy import dendrogram\n",
    "from matplotlib import pyplot as plt\n",
    "\n",
    "\n",
    "## Step 1: Use PC1 and PC2 for hierarchical clustering.\n",
    "clusters = hierarchy.linkage(pca_dataframe[[\"PC1\", \"PC2\"]], method=\"complete\")\n",
    "\n",
    "## Step 2: Show the dendrogram.\n",
    "fig = plt.figure(figsize=(25, 10))\n",
    "dn = dendrogram(clusters)\n",
    "plt.show()\n",
    "\n",
    "## Step 3: Perform Hierarchical Clustering using your chosen amount of clusters.\n",
    "from sklearn.cluster import AgglomerativeClustering\n",
    "\n",
    "clustering = AgglomerativeClustering(n_clusters=3)\n",
    "Y_preds = clustering.fit_predict(pca_dataframe[[\"PC1\", \"PC2\"]])\n",
    "\n",
    "pca_dataframe[\"predicted_hierarchical_cluster\"] = Y_preds\n",
    "\n",
    "## Step 4: Plot the hierarchical clustering results. Do they make sense?\n",
    "sns.scatterplot(\n",
    "    data = pca_dataframe,\n",
    "    x = \"PC1\",\n",
    "    y = \"PC2\",\n",
    "    hue = \"predicted_hierarchical_cluster\"\n",
    ")"
   ]
  },
  {
   "cell_type": "code",
   "execution_count": null,
   "id": "785e64f9-9694-4573-aabe-4ad6110455ac",
   "metadata": {},
   "outputs": [],
   "source": [
    "gen_df[\"Days Since Cohort Graduation\"].isna().sum()"
   ]
  },
  {
   "cell_type": "code",
   "execution_count": null,
   "id": "ba956713-f255-4a18-a901-43baa450070b",
   "metadata": {},
   "outputs": [],
   "source": []
  },
  {
   "cell_type": "code",
   "execution_count": null,
   "id": "e0611d3d-8d37-4a86-bebe-6d6251ccd2ff",
   "metadata": {},
   "outputs": [],
   "source": []
  },
  {
   "cell_type": "code",
   "execution_count": null,
   "id": "d023569d-5163-4fc6-bfd6-775dee18ced4",
   "metadata": {},
   "outputs": [],
   "source": [
    " 60  Total Days Absent                      2602 non-null   int64  \n",
    " 61  Total Days Late                        2602 non-null   int64  \n",
    " 62  Average Score - Soft Skills            1332 non-null   float64\n",
    " 63  Average Score - Technical Skills   "
   ]
  },
  {
   "cell_type": "code",
   "execution_count": null,
   "id": "84dcc321-4fc4-4bad-aec7-c8df6d1964b4",
   "metadata": {},
   "outputs": [],
   "source": [
    "sns.relplot(y=\"Total Days Absent\",\n",
    "            x=\"Average Score - Technical Skills\",\n",
    "            data=gen_df,\n",
    "            kind=\"scatter\",\n",
    "            col=\"Employment_Status\")"
   ]
  },
  {
   "cell_type": "code",
   "execution_count": null,
   "id": "a9dd19d3-8fcf-4ef9-8395-f68356e3fba2",
   "metadata": {},
   "outputs": [],
   "source": [
    "sns.catplot(data=gen_df,\n",
    "            kind=\"bar\",\n",
    "            x=\"Employment_Status\",\n",
    "            y=\"Average Score - Technical Skills\",\n",
    "            hue=\"is_EAL\"\n",
    "           )\n",
    "plt.title(\"Tech scores by employment status\")\n",
    "plt.show()"
   ]
  },
  {
   "cell_type": "code",
   "execution_count": null,
   "id": "27e6e1c6-d843-4496-a7ee-c55554d8afdd",
   "metadata": {},
   "outputs": [],
   "source": [
    "sns.catplot(data=gen_df,\n",
    "            kind=\"bar\",\n",
    "            x=\"Employment_Status\",\n",
    "            y=\"Total Days Absent\",\n",
    "            hue=\"is_EAL\"\n",
    "           )\n",
    "plt.title(\"Total days absent by employment status\")\n",
    "plt.show()"
   ]
  },
  {
   "cell_type": "code",
   "execution_count": null,
   "id": "ff590cd7-18a9-49db-b59f-1071dd30dc85",
   "metadata": {},
   "outputs": [],
   "source": [
    "gen_df[\"Graduation Date\"].head()"
   ]
  },
  {
   "cell_type": "code",
   "execution_count": null,
   "id": "075de573-d4b6-42c1-b778-676883b4d0cc",
   "metadata": {},
   "outputs": [],
   "source": [
    "gen_df[\"First_Placement_Date\"] = pd.to_datetime(gen_df[\"First_Placement_Date\"], format= \"%Y-%m-%d\")"
   ]
  },
  {
   "cell_type": "code",
   "execution_count": null,
   "id": "67297f1e-ba2e-4723-bb42-58b546ed15e8",
   "metadata": {},
   "outputs": [],
   "source": [
    "gen_df[\"Graduation Date\"] = pd.to_datetime(gen_df[\"Graduation Date\"], format= \"%m/%d/%Y\")"
   ]
  },
  {
   "cell_type": "code",
   "execution_count": null,
   "id": "3df14349-bd15-4a1e-abc7-023905efae26",
   "metadata": {},
   "outputs": [],
   "source": [
    "gen_df[\"Search_duration\"] = gen_df[\"First_Placement_Date\"] - gen_df[\"Graduation Date\"]"
   ]
  },
  {
   "cell_type": "code",
   "execution_count": null,
   "id": "0afbf5e7-1795-480f-9b9a-1d8566e34c16",
   "metadata": {
    "scrolled": true
   },
   "outputs": [],
   "source": [
    "gen_df[\"Search_duration\"].head()"
   ]
  },
  {
   "cell_type": "code",
   "execution_count": null,
   "id": "91c4520a-d06d-4a81-95b3-c14c6abb2ca2",
   "metadata": {},
   "outputs": [],
   "source": [
    "Search_duration_noNaN = gen_df[\"Search_duration\"].dropna()\n",
    "Search_duration_noNaN_int = Search_duration_noNaN.dt.days\n",
    "\n",
    "\n",
    "x_temp=Search_duration_noNaN_int[Search_duration_noNaN_int >= 0]\n",
    "sns.histplot(x=x_temp,\n",
    "            bins=20)\n",
    "\n",
    "plt.show()\n",
    "    "
   ]
  },
  {
   "cell_type": "code",
   "execution_count": null,
   "id": "081c644a-6889-4b4d-8fb7-48109c78fa2c",
   "metadata": {},
   "outputs": [],
   "source": [
    "gen_df[\"Search_duration\"] = gen_df[\"Search_duration\"].dt.days"
   ]
  },
  {
   "cell_type": "code",
   "execution_count": null,
   "id": "2ef07ee6-496a-4516-ac73-479974a2e9e1",
   "metadata": {},
   "outputs": [],
   "source": [
    "gen_df[\"Search_duration\"].head()"
   ]
  },
  {
   "cell_type": "code",
   "execution_count": null,
   "id": "1ce5c6d3-8da4-4dee-b18f-cfb9fdf91e84",
   "metadata": {},
   "outputs": [],
   "source": [
    "gen_df[\"ProgramName\"].value_counts()"
   ]
  },
  {
   "cell_type": "code",
   "execution_count": null,
   "id": "52ee559a-40fc-4949-9234-2ebc30b812fb",
   "metadata": {},
   "outputs": [],
   "source": [
    "# Distribution of grads per programme and how many are EAL vs non-EAL:\n",
    "\n",
    "@interact\n",
    "def EAL_grads_per_programme_hist(Prog_name=gen_df[\"ProgramName\"].value_counts().index.tolist()):\n",
    "    sns.histplot(x=gen_df[\"is_EAL\"][gen_df[\"ProgramName\"]==Prog_name],\n",
    "                bins=20,\n",
    "                palette=\"pastel\"\n",
    "               )\n",
    "\n",
    "    plt.title(\"Number of EAL vs non-EAL grads\")\n",
    "    plt.show()"
   ]
  },
  {
   "cell_type": "code",
   "execution_count": null,
   "id": "10144a96-b061-40c8-ade9-a3a5bb10ba0e",
   "metadata": {},
   "outputs": [],
   "source": [
    "@interact\n",
    "def search_duration_hist(Prog_name=gen_df[\"ProgramName\"].value_counts().index.tolist()):\n",
    "    sns.displot(x=gen_df[\"Search_duration\"][(gen_df[\"Search_duration\"]>=0.0) & (gen_df[\"ProgramName\"]==Prog_name)],\n",
    "                bins=20,\n",
    "                kde=True,\n",
    "                hue=gen_df[\"is_EAL\"],\n",
    "                palette=\"pastel\"\n",
    "               )\n",
    "\n",
    "    plt.title(\"Job search duration for Employed graduates\")\n",
    "    plt.show()"
   ]
  },
  {
   "cell_type": "code",
   "execution_count": null,
   "id": "68fdb37f-3a0e-4133-b8de-aa8d3e1bdd7f",
   "metadata": {
    "scrolled": true
   },
   "outputs": [],
   "source": [
    "sns.displot(x=gen_df[\"Search_duration\"][(gen_df[\"Search_duration\"]>=0.0)],\n",
    "            bins=30,\n",
    "            kde=True,\n",
    "            stat=\"density\",\n",
    "            common_norm=False,\n",
    "            row=gen_df[\"ProgramName\"]\n",
    "           )\n",
    "plt.show()"
   ]
  },
  {
   "cell_type": "code",
   "execution_count": null,
   "id": "e00a697e-8573-41f7-b0e1-1821bc78352d",
   "metadata": {},
   "outputs": [],
   "source": [
    "# How does EAL relate to post-bootcamp placement?\n",
    "\n",
    "@interact\n",
    "def EAL_by_program_hist(Prog_name=gen_df[\"Cohort_name\"].value_counts().index.tolist()):\n",
    "    \n",
    "    sns.histplot(data= gen_df[gen_df[\"Cohort_name\"]==Prog_name], \n",
    "                 x=\"Employment_Status\", \n",
    "                 hue=\"is_EAL\",\n",
    "                 multiple=\"dodge\",\n",
    "                 # stat=\"density\",\n",
    "                 # common_norm=False,\n",
    "                 shrink=.8)\n",
    "    \n",
    "    plt.title(\"Employment status count + EAL\")"
   ]
  },
  {
   "cell_type": "code",
   "execution_count": null,
   "id": "cb2eed70-d936-4869-9645-c463cc20b827",
   "metadata": {},
   "outputs": [],
   "source": [
    "gen_df_numeric.columns"
   ]
  },
  {
   "cell_type": "code",
   "execution_count": null,
   "id": "4b44a6db-81be-4868-8ceb-ce6545c0ebc1",
   "metadata": {},
   "outputs": [],
   "source": [
    "# Create a correlation heatmap\n",
    "gen_df_numeric = gen_df.select_dtypes(include=np.number)\n",
    "gen_df_numeric= gen_df_numeric[['Age_at_application', 'Barriers value',\n",
    "                               'Current_placement_aligned_to_training', 'Education level', 'First_placement_by_gen', 'Has_dependents','IMD_decile', 'Is_disabled', 'is_EAL', 'is_ethnic_minority',\n",
    "                               'is_LGBTQ+', 'is_lone_parent', 'is_low_socio_econ', 'Job_start_speed',\n",
    "                               'Days Since Cohort Graduation', 'Total Attendance Taken',\n",
    "                               'Total Days Absent', 'Total Days Late', 'Average Score - Soft Skills',\n",
    "                               'Average Score - Technical Skills', 'Search_duration']]\n",
    "\n",
    "gen_data_matrix = gen_df_numeric.corr()\n",
    "sns.heatmap(gen_data_matrix, \n",
    "            cmap='coolwarm',\n",
    "            center=0)\n",
    "\n",
    "plt.figure(figsize=(30, 30))\n",
    "plt.show()"
   ]
  },
  {
   "cell_type": "code",
   "execution_count": null,
   "id": "a4094ea8-1763-4d61-9bc7-f5e88964cbc3",
   "metadata": {},
   "outputs": [],
   "source": [
    "sns.scatterplot(x=gen_df[\"Search_duration\"][(gen_df[\"Search_duration\"]>=0.0)],\n",
    "                y=gen_df[\"Average Score - Soft Skills\"][(gen_df[\"Average Score - Soft Skills\"]>0.0)],\n",
    "           )\n",
    "plt.show()"
   ]
  },
  {
   "cell_type": "code",
   "execution_count": null,
   "id": "1e7c658f-0e35-4e66-a3d8-57a07ba2d85d",
   "metadata": {},
   "outputs": [],
   "source": [
    "sns.stripplot(data=gen_df[gen_df[\"Employment_Status\"]!=\"Internship\"],\n",
    "            x=\"Employment_Status\",\n",
    "            y=\"Average Score - Soft Skills\",\n",
    "            jitter=True\n",
    "           )\n",
    "\n",
    "plt.show()"
   ]
  },
  {
   "cell_type": "code",
   "execution_count": null,
   "id": "ff96f37a-dad9-41a9-b387-7add82aeadb0",
   "metadata": {},
   "outputs": [],
   "source": [
    "fig, axs = plt.subplots(1, 1, figsize=(15,10))\n",
    "\n",
    "sns.stripplot(data=gen_df[gen_df[\"Employment_Status\"]!=\"Internship\"], \n",
    "              x=\"Employment_Status\",\n",
    "              y=\"Average Score - Soft Skills\",\n",
    "              size= 3, \n",
    "              jitter=0.35, \n",
    "              ax=axs)\n",
    "\n",
    "sns.boxplot(data=gen_df[gen_df[\"Employment_Status\"]!=\"Internship\"], \n",
    "            x=\"Employment_Status\",\n",
    "            y=\"Average Score - Soft Skills\",\n",
    "            ax=axs, \n",
    "            meanprops={'visible': True, 'color': 'r', 'ls': '-', 'lw': 2},\n",
    "            medianprops={'visible': True, 'color': 'k', 'ls': '-', 'lw': 2}, whiskerprops={'visible': False}, \n",
    "            showmeans=True, meanline=True, showfliers=False, showbox=False, showcaps=False, zorder=10\n",
    "           )\n",
    "\n",
    "plt.show()"
   ]
  },
  {
   "cell_type": "code",
   "execution_count": null,
   "id": "9a5a9ded-5284-4476-8681-45889068b9e8",
   "metadata": {},
   "outputs": [],
   "source": [
    "fig, axs = plt.subplots(1, 1, figsize=(15,10))\n",
    "\n",
    "sns.stripplot(data=gen_df[gen_df[\"Employment_Status\"]!=\"Internship\"], \n",
    "              x=\"Employment_Status\",\n",
    "              y=\"Total Days Absent\",\n",
    "              size= 7, \n",
    "              jitter=0.35, \n",
    "              ax=axs)\n",
    "\n",
    "sns.boxplot(data=gen_df[gen_df[\"Employment_Status\"]!=\"Internship\"], \n",
    "            x=\"Employment_Status\",\n",
    "            y=\"Total Days Absent\",\n",
    "            ax=axs, \n",
    "            meanprops={'visible': True, 'color': 'r', 'ls': '-', 'lw': 2},\n",
    "            medianprops={'visible': True, 'color': 'k', 'ls': '-', 'lw': 2}, whiskerprops={'visible': False}, \n",
    "            showmeans=True, meanline=True, showfliers=False, showbox=False, showcaps=False, zorder=10\n",
    "           )\n",
    "\n",
    "plt.show()"
   ]
  },
  {
   "cell_type": "code",
   "execution_count": null,
   "id": "432b721d-20ac-46bc-b0f4-31d262284575",
   "metadata": {},
   "outputs": [],
   "source": [
    "!pip install wordcloud"
   ]
  },
  {
   "cell_type": "code",
   "execution_count": null,
   "id": "50842a3c-3f61-492d-8e98-eaec0cadfa29",
   "metadata": {},
   "outputs": [],
   "source": [
    "from wordcloud import WordCloud\n",
    "from wordcloud import ImageColorGenerator\n",
    "from wordcloud import STOPWORDS"
   ]
  },
  {
   "cell_type": "code",
   "execution_count": null,
   "id": "5c32409b-6a28-4fe0-a17f-cbdeeca965d3",
   "metadata": {},
   "outputs": [],
   "source": [
    "text = \" \".join(i for i in gen_df[\"learnerSpecialNeedsDetails\"].astype(str))\n",
    "stopwords = set(STOPWORDS)\n",
    "wordcloud = WordCloud(stopwords=stopwords, background_color=\"white\").generate(text)\n",
    "plt.figure( figsize=(15,10))\n",
    "plt.imshow(wordcloud, interpolation='bilinear')\n",
    "plt.axis(\"off\")\n",
    "plt.show()"
   ]
  },
  {
   "cell_type": "code",
   "execution_count": null,
   "id": "85db0ad6-43bc-4eff-a88c-62527c320eb8",
   "metadata": {},
   "outputs": [],
   "source": [
    "gen_df.info()"
   ]
  },
  {
   "cell_type": "code",
   "execution_count": null,
   "id": "3def018f-dc04-4f3b-bfbf-3dad08a644c9",
   "metadata": {},
   "outputs": [],
   "source": [
    "gen_df[\"Enrolment_Status\"].value_counts()"
   ]
  },
  {
   "cell_type": "code",
   "execution_count": null,
   "id": "7453e492-40f8-44fc-8e1a-946dd7d81741",
   "metadata": {
    "scrolled": true
   },
   "outputs": [],
   "source": [
    "gen_df[\"Risk Level\"].value_counts()"
   ]
  },
  {
   "cell_type": "code",
   "execution_count": null,
   "id": "081dfe6a-eafd-4420-ade2-b5dfb3749f83",
   "metadata": {},
   "outputs": [],
   "source": [
    "gen_df[\"Original Risk Level\"].value_counts()"
   ]
  },
  {
   "cell_type": "code",
   "execution_count": 69,
   "id": "c3f91559-905a-46ff-a28b-3fa9375817d2",
   "metadata": {},
   "outputs": [
    {
     "ename": "KeyError",
     "evalue": "'Risk Level'",
     "output_type": "error",
     "traceback": [
      "\u001b[0;31m---------------------------------------------------------------------------\u001b[0m",
      "\u001b[0;31mKeyError\u001b[0m                                  Traceback (most recent call last)",
      "File \u001b[0;32m~/miniconda3/lib/python3.11/site-packages/pandas/core/indexes/base.py:3791\u001b[0m, in \u001b[0;36mIndex.get_loc\u001b[0;34m(self, key)\u001b[0m\n\u001b[1;32m   3790\u001b[0m \u001b[38;5;28;01mtry\u001b[39;00m:\n\u001b[0;32m-> 3791\u001b[0m     \u001b[38;5;28;01mreturn\u001b[39;00m \u001b[38;5;28;43mself\u001b[39;49m\u001b[38;5;241;43m.\u001b[39;49m\u001b[43m_engine\u001b[49m\u001b[38;5;241;43m.\u001b[39;49m\u001b[43mget_loc\u001b[49m\u001b[43m(\u001b[49m\u001b[43mcasted_key\u001b[49m\u001b[43m)\u001b[49m\n\u001b[1;32m   3792\u001b[0m \u001b[38;5;28;01mexcept\u001b[39;00m \u001b[38;5;167;01mKeyError\u001b[39;00m \u001b[38;5;28;01mas\u001b[39;00m err:\n",
      "File \u001b[0;32mindex.pyx:152\u001b[0m, in \u001b[0;36mpandas._libs.index.IndexEngine.get_loc\u001b[0;34m()\u001b[0m\n",
      "File \u001b[0;32mindex.pyx:181\u001b[0m, in \u001b[0;36mpandas._libs.index.IndexEngine.get_loc\u001b[0;34m()\u001b[0m\n",
      "File \u001b[0;32mpandas/_libs/hashtable_class_helper.pxi:7080\u001b[0m, in \u001b[0;36mpandas._libs.hashtable.PyObjectHashTable.get_item\u001b[0;34m()\u001b[0m\n",
      "File \u001b[0;32mpandas/_libs/hashtable_class_helper.pxi:7088\u001b[0m, in \u001b[0;36mpandas._libs.hashtable.PyObjectHashTable.get_item\u001b[0;34m()\u001b[0m\n",
      "\u001b[0;31mKeyError\u001b[0m: 'Risk Level'",
      "\nThe above exception was the direct cause of the following exception:\n",
      "\u001b[0;31mKeyError\u001b[0m                                  Traceback (most recent call last)",
      "Cell \u001b[0;32mIn[69], line 6\u001b[0m\n\u001b[1;32m      3\u001b[0m \u001b[38;5;28;01mfrom\u001b[39;00m \u001b[38;5;21;01mpandas\u001b[39;00m\u001b[38;5;21;01m.\u001b[39;00m\u001b[38;5;21;01mapi\u001b[39;00m\u001b[38;5;21;01m.\u001b[39;00m\u001b[38;5;21;01mtypes\u001b[39;00m \u001b[38;5;28;01mimport\u001b[39;00m CategoricalDtype\n\u001b[1;32m      4\u001b[0m risk_levels \u001b[38;5;241m=\u001b[39m CategoricalDtype(categories\u001b[38;5;241m=\u001b[39m[\u001b[38;5;124m\"\u001b[39m\u001b[38;5;124mLow Risk\u001b[39m\u001b[38;5;124m\"\u001b[39m, \u001b[38;5;124m\"\u001b[39m\u001b[38;5;124mMedium Risk\u001b[39m\u001b[38;5;124m\"\u001b[39m, \u001b[38;5;124m\"\u001b[39m\u001b[38;5;124mHigh Risk\u001b[39m\u001b[38;5;124m\"\u001b[39m, \u001b[38;5;124m\"\u001b[39m\u001b[38;5;124mTo Be Identified\u001b[39m\u001b[38;5;124m\"\u001b[39m], ordered\u001b[38;5;241m=\u001b[39m\u001b[38;5;28;01mTrue\u001b[39;00m)\n\u001b[0;32m----> 6\u001b[0m temp \u001b[38;5;241m=\u001b[39m \u001b[43mgen_df\u001b[49m\u001b[43m[\u001b[49m\u001b[38;5;124;43m\"\u001b[39;49m\u001b[38;5;124;43mRisk Level\u001b[39;49m\u001b[38;5;124;43m\"\u001b[39;49m\u001b[43m]\u001b[49m\u001b[38;5;241m.\u001b[39mastype(risk_levels)\n\u001b[1;32m      8\u001b[0m temp\u001b[38;5;241m.\u001b[39mhist()\n",
      "File \u001b[0;32m~/miniconda3/lib/python3.11/site-packages/pandas/core/frame.py:3893\u001b[0m, in \u001b[0;36mDataFrame.__getitem__\u001b[0;34m(self, key)\u001b[0m\n\u001b[1;32m   3891\u001b[0m \u001b[38;5;28;01mif\u001b[39;00m \u001b[38;5;28mself\u001b[39m\u001b[38;5;241m.\u001b[39mcolumns\u001b[38;5;241m.\u001b[39mnlevels \u001b[38;5;241m>\u001b[39m \u001b[38;5;241m1\u001b[39m:\n\u001b[1;32m   3892\u001b[0m     \u001b[38;5;28;01mreturn\u001b[39;00m \u001b[38;5;28mself\u001b[39m\u001b[38;5;241m.\u001b[39m_getitem_multilevel(key)\n\u001b[0;32m-> 3893\u001b[0m indexer \u001b[38;5;241m=\u001b[39m \u001b[38;5;28;43mself\u001b[39;49m\u001b[38;5;241;43m.\u001b[39;49m\u001b[43mcolumns\u001b[49m\u001b[38;5;241;43m.\u001b[39;49m\u001b[43mget_loc\u001b[49m\u001b[43m(\u001b[49m\u001b[43mkey\u001b[49m\u001b[43m)\u001b[49m\n\u001b[1;32m   3894\u001b[0m \u001b[38;5;28;01mif\u001b[39;00m is_integer(indexer):\n\u001b[1;32m   3895\u001b[0m     indexer \u001b[38;5;241m=\u001b[39m [indexer]\n",
      "File \u001b[0;32m~/miniconda3/lib/python3.11/site-packages/pandas/core/indexes/base.py:3798\u001b[0m, in \u001b[0;36mIndex.get_loc\u001b[0;34m(self, key)\u001b[0m\n\u001b[1;32m   3793\u001b[0m     \u001b[38;5;28;01mif\u001b[39;00m \u001b[38;5;28misinstance\u001b[39m(casted_key, \u001b[38;5;28mslice\u001b[39m) \u001b[38;5;129;01mor\u001b[39;00m (\n\u001b[1;32m   3794\u001b[0m         \u001b[38;5;28misinstance\u001b[39m(casted_key, abc\u001b[38;5;241m.\u001b[39mIterable)\n\u001b[1;32m   3795\u001b[0m         \u001b[38;5;129;01mand\u001b[39;00m \u001b[38;5;28many\u001b[39m(\u001b[38;5;28misinstance\u001b[39m(x, \u001b[38;5;28mslice\u001b[39m) \u001b[38;5;28;01mfor\u001b[39;00m x \u001b[38;5;129;01min\u001b[39;00m casted_key)\n\u001b[1;32m   3796\u001b[0m     ):\n\u001b[1;32m   3797\u001b[0m         \u001b[38;5;28;01mraise\u001b[39;00m InvalidIndexError(key)\n\u001b[0;32m-> 3798\u001b[0m     \u001b[38;5;28;01mraise\u001b[39;00m \u001b[38;5;167;01mKeyError\u001b[39;00m(key) \u001b[38;5;28;01mfrom\u001b[39;00m \u001b[38;5;21;01merr\u001b[39;00m\n\u001b[1;32m   3799\u001b[0m \u001b[38;5;28;01mexcept\u001b[39;00m \u001b[38;5;167;01mTypeError\u001b[39;00m:\n\u001b[1;32m   3800\u001b[0m     \u001b[38;5;66;03m# If we have a listlike key, _check_indexing_error will raise\u001b[39;00m\n\u001b[1;32m   3801\u001b[0m     \u001b[38;5;66;03m#  InvalidIndexError. Otherwise we fall through and re-raise\u001b[39;00m\n\u001b[1;32m   3802\u001b[0m     \u001b[38;5;66;03m#  the TypeError.\u001b[39;00m\n\u001b[1;32m   3803\u001b[0m     \u001b[38;5;28mself\u001b[39m\u001b[38;5;241m.\u001b[39m_check_indexing_error(key)\n",
      "\u001b[0;31mKeyError\u001b[0m: 'Risk Level'"
     ]
    }
   ],
   "source": [
    "# Lets try converting some data into a categorical datatype:\n",
    "\n",
    "from pandas.api.types import CategoricalDtype\n",
    "risk_levels = CategoricalDtype(categories=[\"Low Risk\", \"Medium Risk\", \"High Risk\", \"To Be Identified\"], ordered=True)\n",
    "\n",
    "temp = gen_df[\"Risk Level\"].astype(risk_levels)\n",
    "\n",
    "temp.hist()"
   ]
  },
  {
   "cell_type": "code",
   "execution_count": null,
   "id": "60d38e36-a9a5-4168-bf70-2db93b38bb47",
   "metadata": {},
   "outputs": [],
   "source": [
    "gen_df[\"Risk Level\"].hist()"
   ]
  },
  {
   "cell_type": "code",
   "execution_count": null,
   "id": "9d2a118b-3f37-4988-b7b0-dabc5298bcd6",
   "metadata": {},
   "outputs": [],
   "source": []
  },
  {
   "cell_type": "code",
   "execution_count": null,
   "id": "b4e052ee-824c-41f6-a60f-327767c310d6",
   "metadata": {},
   "outputs": [],
   "source": []
  },
  {
   "cell_type": "code",
   "execution_count": null,
   "id": "26bc3361-f157-46d7-b63d-e79aaaf47d28",
   "metadata": {},
   "outputs": [],
   "source": []
  },
  {
   "cell_type": "code",
   "execution_count": null,
   "id": "abea556b-8c1f-4ebf-be7f-e88f8755b76d",
   "metadata": {},
   "outputs": [],
   "source": [
    "# Create a stacked bar chart:\n",
    "\n",
    "# import libraries\n",
    "import matplotlib.patches as mpatches\n",
    "\n",
    "# set the figure size\n",
    "plt.figure(figsize=(14, 14))\n",
    "\n",
    "# from raw value to percentage\n",
    "grads_per_programme_count = gen_df.groupby('ProgramName')['Student_ID'].count().reset_index()\n",
    "EAL_per_programme = gen_df[gen_df[\"is_EAL\"]==1].groupby('ProgramName')['is_EAL'].sum().reset_index()\n",
    "EAL_per_programme['is_EAL'] = [i / j * 100 for i,j in zip(EAL_per_programme['is_EAL'], grads_per_programme_count['Student_ID'])]\n",
    "grads_per_programme_count['Student_ID'] = [i / j * 100 for i,j in zip(grads_per_programme_count['Student_ID'], grads_per_programme_count['Student_ID'])]\n",
    "\n",
    "# bar chart 1 -> top bars (group of 'smoker=No')\n",
    "bar1 = sns.barplot(y=\"ProgramName\",  x=\"Student_ID\", data=grads_per_programme_count, color='darkblue')\n",
    "\n",
    "# bar chart 2 -> bottom bars (group of 'smoker=Yes')\n",
    "bar2 = sns.barplot(y=\"ProgramName\", x=\"is_EAL\", data=EAL_per_programme, color='lightblue')\n",
    "\n",
    "# add legend\n",
    "top_bar = mpatches.Patch(color='darkblue', label='Not EAL')\n",
    "bottom_bar = mpatches.Patch(color='lightblue', label='EAL')\n",
    "plt.legend(handles=[top_bar, bottom_bar])\n",
    "\n",
    "# show the graph\n",
    "plt.show()"
   ]
  },
  {
   "cell_type": "code",
   "execution_count": null,
   "id": "7cefda42-687e-41a9-b563-ad71e534bf9a",
   "metadata": {},
   "outputs": [],
   "source": [
    "grads_per_programme_count"
   ]
  },
  {
   "cell_type": "code",
   "execution_count": null,
   "id": "b5d78846-a9cb-48da-9d8e-157497c2acb7",
   "metadata": {},
   "outputs": [],
   "source": [
    "EAL_per_programme"
   ]
  },
  {
   "cell_type": "code",
   "execution_count": null,
   "id": "1669c31b-cc11-4621-a712-01426f5dbbd9",
   "metadata": {},
   "outputs": [],
   "source": [
    "gen_df[\"is_EAL\"].value_counts().index.tolist()"
   ]
  },
  {
   "cell_type": "code",
   "execution_count": null,
   "id": "b7d0ac60-5937-4541-85cb-65229549802e",
   "metadata": {},
   "outputs": [],
   "source": [
    "# create a nested loop to calculate the values for the sanky diagram.\n",
    "\n",
    "# Start with the your starting options: 0,1\n",
    "\n",
    "# For each starting option, calculate the proportion of that option that go on to each of the options \n",
    "# in the next phase. i.e. what proportion of EAL grads go on to be \"graduated\", how about \"drop out\", etc...\n",
    "\n",
    "# for each of these groups, determine what proportion of that group go on to each of the options in the next phase"
   ]
  },
  {
   "cell_type": "code",
   "execution_count": null,
   "id": "e5f26262-9fbf-4376-82c9-ab1ac644b838",
   "metadata": {},
   "outputs": [],
   "source": [
    "# Lets create a simple sankey diagram that plots how different genders end up in terms of employment status. "
   ]
  },
  {
   "cell_type": "code",
   "execution_count": 34,
   "id": "fcc44af4-e07d-4f30-8954-7a0469059649",
   "metadata": {},
   "outputs": [
    {
     "data": {
      "text/plain": [
       "['Male', 'Female', 'Other']"
      ]
     },
     "execution_count": 34,
     "metadata": {},
     "output_type": "execute_result"
    }
   ],
   "source": [
    "#  First lest see how many gender options we have and how many employment statuses we have:\n",
    "\n",
    "gen_df[\"gender\"].value_counts()\n",
    "\n",
    "gen_df[\"gender\"].value_counts().index.tolist()"
   ]
  },
  {
   "cell_type": "code",
   "execution_count": 35,
   "id": "74b22b68-9bec-42e6-b040-ed640c87e918",
   "metadata": {},
   "outputs": [
    {
     "data": {
      "text/plain": [
       "['Employed', 'Unemployed', 'Opted Out', 'Unknown']"
      ]
     },
     "execution_count": 35,
     "metadata": {},
     "output_type": "execute_result"
    }
   ],
   "source": [
    "gen_df[\"Employment_Status\"].value_counts()\n",
    "gen_df[\"Employment_Status\"].value_counts().index.tolist()"
   ]
  },
  {
   "cell_type": "code",
   "execution_count": 36,
   "id": "51643e66-2b38-4530-8b18-a82346afc617",
   "metadata": {},
   "outputs": [
    {
     "data": {
      "text/plain": [
       "184"
      ]
     },
     "execution_count": 36,
     "metadata": {},
     "output_type": "execute_result"
    }
   ],
   "source": [
    "# Lets find the proportion of Male grads that are currently employed:\n",
    "\n",
    "total_employment_statuses = gen_df[\"Employment_Status\"].count()\n",
    "\n",
    "\n",
    "count_temp = gen_df[gen_df[\"Employment_Status\"]==\"Employed\"].groupby(gen_df[\"gender\"]==\"Male\")[\"Employment_Status\"].count()\n",
    "count_temp = count_temp[True]\n",
    "count_temp\n",
    "\n",
    "# proportion_temp = count_temp / total_employment_statuses * 100\n",
    "# proportion_temp\n",
    "\n",
    "# For sankey do I need a count or a proportion?"
   ]
  },
  {
   "cell_type": "code",
   "execution_count": 62,
   "id": "ad124502-1452-48e6-8456-76d910bc711e",
   "metadata": {},
   "outputs": [
    {
     "data": {
      "text/plain": [
       "{'Male': 3, 'Female': 4, 'Other': 5}"
      ]
     },
     "execution_count": 62,
     "metadata": {},
     "output_type": "execute_result"
    }
   ],
   "source": [
    "source_values_str = gen_df[\"gender\"].value_counts().index.tolist()\n",
    "target_values_str = gen_df[\"Employment_Status\"].value_counts().index.tolist()\n",
    "\n",
    "source_keys = {x:source_values_str.index(x) for x in source_values_str}\n",
    "source_keys\n",
    "\n",
    "target_keys = {x:(source_values_str.index(x) + len(source_values_str)) for x in source_values_str}\n",
    "target_keys"
   ]
  },
  {
   "cell_type": "code",
   "execution_count": 65,
   "id": "e3530471-59e5-46c1-b2f7-426631561e5f",
   "metadata": {},
   "outputs": [],
   "source": [
    "source_1 = [] \n",
    "target_1 = [] \n",
    "value_1 = []\n",
    "\n",
    "# For each gender determine the count of each employment status:\n",
    "source_values_str = gen_df[\"gender\"].value_counts().index.tolist()\n",
    "target_values_str = gen_df[\"Employment_Status\"].value_counts().index.tolist()\n",
    "\n",
    "source_keys = {x:source_values_str.index(x) for x in source_values_str}\n",
    "target_keys = {x:(target_values_str.index(x) + len(source_values_str)) for x in target_values_str}\n",
    "\n",
    "for source_val in source_values_str:\n",
    "    for target_val in target_values_str:\n",
    "        count_temp = gen_df[gen_df[\"Employment_Status\"]==target_val].groupby(gen_df[\"gender\"]==source_val)[\"Employment_Status\"].count()\n",
    "        if True in count_temp:\n",
    "            count_temp = count_temp[True]\n",
    "            source_1.append(source_keys[source_val])\n",
    "            target_1.append(target_keys[target_val])\n",
    "            value_1.append(count_temp)\n",
    "        "
   ]
  },
  {
   "cell_type": "code",
   "execution_count": 38,
   "id": "14acbeb9-c511-4a82-b8c4-2f240356a2cb",
   "metadata": {},
   "outputs": [
    {
     "data": {
      "text/plain": [
       "12"
      ]
     },
     "execution_count": 38,
     "metadata": {},
     "output_type": "execute_result"
    }
   ],
   "source": [
    "len(value_1)"
   ]
  },
  {
   "cell_type": "code",
   "execution_count": 39,
   "id": "06d0b046-4e8d-44e6-a236-e8bd57322d87",
   "metadata": {},
   "outputs": [
    {
     "data": {
      "text/plain": [
       "12"
      ]
     },
     "execution_count": 39,
     "metadata": {},
     "output_type": "execute_result"
    }
   ],
   "source": [
    "len(target_1)"
   ]
  },
  {
   "cell_type": "code",
   "execution_count": 40,
   "id": "8e9481dd-7b55-4128-83f6-7085552044be",
   "metadata": {},
   "outputs": [],
   "source": [
    "# !pip install plotly"
   ]
  },
  {
   "cell_type": "code",
   "execution_count": null,
   "id": "e4b4f400-cbcf-41c2-9fd7-1d621df51e32",
   "metadata": {},
   "outputs": [],
   "source": []
  },
  {
   "cell_type": "code",
   "execution_count": 41,
   "id": "60b0949e-04fb-40db-a326-84aeb4575814",
   "metadata": {},
   "outputs": [],
   "source": [
    "import plotly.graph_objects as go"
   ]
  },
  {
   "cell_type": "code",
   "execution_count": 42,
   "id": "003a0fbb-d456-4dc2-8a2d-073fd943ab82",
   "metadata": {},
   "outputs": [
    {
     "name": "stdout",
     "output_type": "stream",
     "text": [
      "[('Male', 'Employed', 184), ('Male', 'Unemployed', 182), ('Male', 'Opted Out', 35), ('Male', 'Unknown', 16), ('Female', 'Employed', 226), ('Female', 'Unemployed', 160), ('Female', 'Opted Out', 38), ('Female', 'Unknown', 17), ('Other', 'Employed', 7), ('Other', 'Unemployed', 3), ('Other', 'Opted Out', 2), ('Other', 'Unknown', 1)]\n"
     ]
    }
   ],
   "source": [
    "zipped_temp = zip(source_1, target_1, value_1)\n",
    "print(list(zipped_temp))"
   ]
  },
  {
   "cell_type": "code",
   "execution_count": 43,
   "id": "dc06f59a-0940-45e3-8f0b-66d1a7c6ccd8",
   "metadata": {},
   "outputs": [
    {
     "ename": "NameError",
     "evalue": "name 'source' is not defined",
     "output_type": "error",
     "traceback": [
      "\u001b[0;31m---------------------------------------------------------------------------\u001b[0m",
      "\u001b[0;31mNameError\u001b[0m                                 Traceback (most recent call last)",
      "Cell \u001b[0;32mIn[43], line 1\u001b[0m\n\u001b[0;32m----> 1\u001b[0m \u001b[43msource\u001b[49m\n",
      "\u001b[0;31mNameError\u001b[0m: name 'source' is not defined"
     ]
    }
   ],
   "source": [
    "source"
   ]
  },
  {
   "cell_type": "code",
   "execution_count": 55,
   "id": "6e8596c7-14cd-48e0-8ec0-d233e2987b4f",
   "metadata": {},
   "outputs": [
    {
     "data": {
      "text/plain": [
       "['Employed',\n",
       " 'Unemployed',\n",
       " 'Opted Out',\n",
       " 'Unknown',\n",
       " 'Employed',\n",
       " 'Unemployed',\n",
       " 'Opted Out',\n",
       " 'Unknown',\n",
       " 'Employed',\n",
       " 'Unemployed',\n",
       " 'Opted Out',\n",
       " 'Unknown']"
      ]
     },
     "execution_count": 55,
     "metadata": {},
     "output_type": "execute_result"
    }
   ],
   "source": [
    "target_1\n"
   ]
  },
  {
   "cell_type": "code",
   "execution_count": 57,
   "id": "55bfa228-5634-408c-89a5-bb1e47294de1",
   "metadata": {},
   "outputs": [
    {
     "data": {
      "text/html": [
       "<iframe\n",
       "    scrolling=\"no\"\n",
       "    width=\"100%\"\n",
       "    height=\"545px\"\n",
       "    src=\"iframe_figures/figure_57.html\"\n",
       "    frameborder=\"0\"\n",
       "    allowfullscreen\n",
       "></iframe>\n"
      ]
     },
     "metadata": {},
     "output_type": "display_data"
    }
   ],
   "source": [
    "fig = go.Figure(data=[go.Sankey(\n",
    "      node = dict(\n",
    "      pad = 15,\n",
    "      thickness = 20,\n",
    "      line = dict(color = \"black\", width = 0.5),\n",
    "      label = ['Male', 'Female', 'Other', 'Employed', 'Unemployed', 'Opted Out', 'Unknown'],\n",
    "      # customdata = [\"Long name A1\", \"Long name A2\", \"Long name B1\", \"Long name B2\",\n",
    "      #               \"Long name C1\", \"Long name C2\"],\n",
    "      # hovertemplate='Node %{customdata} has total value %{value}<extra></extra>',\n",
    "      # color = \"blue\"\n",
    "    ),\n",
    "    link = dict(\n",
    "      source = [0,0,0,0,1,1,1,1,2,2,2,2],\n",
    "      target = [3,4,5,6,3,4,5,6,3,4,5,6],\n",
    "      value = value_1,\n",
    "      customdata = [\"q\",\"r\",\"s\",\"t\",\"u\",\"v\"],\n",
    "      # hovertemplate='Link from node %{source.customdata}<br />'+\n",
    "      #   'to node%{target.customdata}<br />has value %{value}'+\n",
    "      #   '<br />and data %{customdata}<extra></extra>',\n",
    "  ))])\n",
    "\n",
    "fig.update_layout(title_text=\"Basic Sankey Diagram\", font_size=10)\n",
    "fig.show(renderer=\"iframe\") \n",
    "# plt.show()"
   ]
  },
  {
   "cell_type": "code",
   "execution_count": 66,
   "id": "ad962121-2ed9-411c-98cf-a46c34dde244",
   "metadata": {},
   "outputs": [
    {
     "data": {
      "text/html": [
       "<iframe\n",
       "    scrolling=\"no\"\n",
       "    width=\"100%\"\n",
       "    height=\"545px\"\n",
       "    src=\"iframe_figures/figure_66.html\"\n",
       "    frameborder=\"0\"\n",
       "    allowfullscreen\n",
       "></iframe>\n"
      ]
     },
     "metadata": {},
     "output_type": "display_data"
    }
   ],
   "source": [
    "fig = go.Figure(data=[go.Sankey(\n",
    "    node = dict(\n",
    "      pad = 15,\n",
    "      thickness = 20,\n",
    "      line = dict(color = \"black\", width = 0.5),\n",
    "      # label = ['Male', 'Female', 'Other', 'Prefer not to say', 'Employed', 'Unemployed', 'Opted Out', 'Unknown', 'Internship'],\n",
    "      color = \"blue\"\n",
    "    ),\n",
    "    link = dict(\n",
    "      source = source_1,\n",
    "      target = target_1,\n",
    "      value = value_1,\n",
    "      # hovercolor=[\"midnightblue\", \"lightskyblue\", \"gold\", \"mediumturquoise\", \"lightgreen\", \"cyan\"],\n",
    "  ))])\n",
    "\n",
    "fig.update_layout(title_text=\"Basic Sankey Diagram\", font_size=10)\n",
    "fig.show(renderer=\"iframe\") "
   ]
  },
  {
   "cell_type": "code",
   "execution_count": 53,
   "id": "c50af954-675a-41da-88b3-017f8c7f3153",
   "metadata": {},
   "outputs": [
    {
     "data": {
      "text/html": [
       "<iframe\n",
       "    scrolling=\"no\"\n",
       "    width=\"100%\"\n",
       "    height=\"545px\"\n",
       "    src=\"iframe_figures/figure_53.html\"\n",
       "    frameborder=\"0\"\n",
       "    allowfullscreen\n",
       "></iframe>\n"
      ]
     },
     "metadata": {},
     "output_type": "display_data"
    }
   ],
   "source": [
    "fig = go.Figure(data=[go.Sankey(\n",
    "    node = dict(\n",
    "      pad = 15,\n",
    "      thickness = 20,\n",
    "      line = dict(color = \"black\", width = 0.5),\n",
    "      label = [\"A1\", \"A2\", \"B1\", \"B2\", \"C1\", \"C2\"],\n",
    "      color = \"blue\"\n",
    "    ),\n",
    "    link = dict(\n",
    "      source = [0, 1, 0, 2, 3, 3],\n",
    "      target = [2, 3, 3, 4, 4, 5],\n",
    "      value = [8, 4, 2, 8, 4, 2],\n",
    "      hovercolor=[\"midnightblue\", \"lightskyblue\", \"gold\", \"mediumturquoise\", \"lightgreen\", \"cyan\"],\n",
    "  ))])\n",
    "\n",
    "fig.update_layout(title_text=\"Basic Sankey Diagram\", font_size=10)\n",
    "fig.show(renderer=\"iframe\") "
   ]
  },
  {
   "cell_type": "code",
   "execution_count": null,
   "id": "0922050a-9d76-40eb-ae21-173694607ccc",
   "metadata": {
    "scrolled": true
   },
   "outputs": [],
   "source": [
    "# !pip install --upgrade plotly\n",
    "# !pip install --upgrade notebook"
   ]
  },
  {
   "cell_type": "code",
   "execution_count": 67,
   "id": "da3d0c9e-e717-49e8-a276-518299577ec3",
   "metadata": {},
   "outputs": [
    {
     "data": {
      "text/plain": [
       "0                        NaN\n",
       "2                Carpetright\n",
       "3                        NaN\n",
       "4                        NaN\n",
       "5                        NaN\n",
       "6                        NaN\n",
       "7                        NaN\n",
       "8                        NaN\n",
       "9                        NaN\n",
       "10               Carpetright\n",
       "11                       NaN\n",
       "12                       NaN\n",
       "13                       NaN\n",
       "14                       NaN\n",
       "16                       NaN\n",
       "17                    Dunelm\n",
       "18    https://www.gb3.co.uk/\n",
       "19                       NaN\n",
       "21                   Unknown\n",
       "22                   Jamie's\n",
       "Name: Current_Employer_Name, dtype: object"
      ]
     },
     "execution_count": 67,
     "metadata": {},
     "output_type": "execute_result"
    }
   ],
   "source": [
    "gen_df[\"Current_Employer_Name\"].head(20)"
   ]
  },
  {
   "cell_type": "code",
   "execution_count": null,
   "id": "7017c0f3-9f98-4fa6-9df9-2d8044001fa1",
   "metadata": {},
   "outputs": [],
   "source": []
  }
 ],
 "metadata": {
  "kernelspec": {
   "display_name": "Python 3 (ipykernel)",
   "language": "python",
   "name": "python3"
  },
  "language_info": {
   "codemirror_mode": {
    "name": "ipython",
    "version": 3
   },
   "file_extension": ".py",
   "mimetype": "text/x-python",
   "name": "python",
   "nbconvert_exporter": "python",
   "pygments_lexer": "ipython3",
   "version": "3.11.7"
  }
 },
 "nbformat": 4,
 "nbformat_minor": 5
}
