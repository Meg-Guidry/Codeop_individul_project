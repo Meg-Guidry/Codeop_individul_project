{
 "cells": [
  {
   "cell_type": "markdown",
   "id": "7ddccd69-fa30-40f7-abb5-1d24d3816a40",
   "metadata": {},
   "source": [
    "High level story:\n",
    "\n",
    "1. word cloud and barriers number histogram - what barriers do learners face? \n",
    "2. correlation, how do these barriers relate to each other? can we explore these relationships in more detail?\n",
    "3. Likert diagrams to explore differences between programs/ regions, highlight interesting findings\n",
    "4. visualise the flow of grads from bootcamp to 6months post-bootcamp. does placement speed vary per region? per programme? and how do the barriers factor in?"
   ]
  },
  {
   "cell_type": "markdown",
   "id": "b801fe52-8b1b-4fa9-86ad-65f594ce52f1",
   "metadata": {},
   "source": [
    "Questions for clarification: \n",
    "- what barriers/ metrics is the feature \"barriers value\" based on?\n",
    "\n",
    "Other things to consider if there is time:\n",
    "- create a boolean feature \"Has special needs\" to indicate if someone does have this recorded by their name or not. "
   ]
  },
  {
   "cell_type": "markdown",
   "id": "31a28a91-e448-48bd-a165-c8401711f0c5",
   "metadata": {},
   "source": [
    "# Generation Exploratory Data Analysis\n",
    "####   Megan Guidry | March 2024 "
   ]
  },
  {
   "cell_type": "markdown",
   "id": "76b28af7-b4e6-413c-a86f-1f264609b2e6",
   "metadata": {},
   "source": [
    "## Objective\n",
    "\n",
    "#### The Dataset\n",
    "\n",
    "- The original dataset has 2602 observations. Each observation represents a learner that has been admitted onto a Generation UK&I bootcamp.\n",
    "- This analysis will focus on tech bootcamps. After removing non-tech bootcamps from the dataset there are 1917 observations.\n",
    "- The original dataset included only one cohort of approximately 25 learners based in Dublin. The rest are based in the UK. I have removed the Dublin cohort from this analysis.\n",
    "  \n",
    "Program Names:\n",
    "- Technology - Cloud Operations Engineer\n",
    "- Technology - Data Engineering\n",
    "- Data Analytics\n",
    "- IT Support\n",
    "- Tech Talent Accelerator - Software Engineering\n",
    "- Google Cloud\n",
    "\n",
    "\n",
    "- regions,\n",
    "- feature names.\n",
    "\n",
    "#### Questions \n",
    "- Q1\n",
    "- Q2\n",
    "- Q3"
   ]
  },
  {
   "cell_type": "code",
   "execution_count": 712,
   "id": "154a6176-b992-4dc6-ad54-c0bcec246e08",
   "metadata": {},
   "outputs": [],
   "source": [
    "# Imports\n",
    "import pandas as pd\n",
    "import matplotlib.pyplot as plt\n",
    "import numpy as np\n",
    "import seaborn as sns\n",
    "\n",
    "from wordcloud import WordCloud\n",
    "from wordcloud import ImageColorGenerator\n",
    "from wordcloud import STOPWORDS\n",
    "\n",
    "import plotly.graph_objects as go\n",
    "\n",
    "import ipywidgets as widgets\n",
    "from ipywidgets import interact, interact_manual\n",
    "\n",
    "from pandas.api.types import CategoricalDtype\n",
    "from scipy import stats"
   ]
  },
  {
   "cell_type": "markdown",
   "id": "15691304-6e55-4ce9-ac9f-a7227f8dac25",
   "metadata": {},
   "source": [
    "## Data Cleaning"
   ]
  },
  {
   "cell_type": "code",
   "execution_count": 765,
   "id": "2c8b7d7b-2a6c-4405-b20c-e8bf1dfbbeec",
   "metadata": {},
   "outputs": [],
   "source": [
    "# Reading the data and combining the two data sources:\n",
    "PowerBI_df = pd.read_csv(\"Gen_Data/data_improved_including DE_AWS.csv\")\n",
    "SF_df = pd.read_csv(\"Gen_Data/Grad_attendance_info.xls.csv\")\n",
    "\n",
    "SF_df.rename(columns={\"Learner Name\":\"LearnerName\"}, inplace=True) #renaming the column required for merging\n",
    "\n",
    "gen_df = pd.merge(PowerBI_df, SF_df, left_on='LearnerName', right_on='LearnerName')"
   ]
  },
  {
   "cell_type": "code",
   "execution_count": 766,
   "id": "12b0ece3-1c6b-4cb4-8ede-df1bd53d4725",
   "metadata": {},
   "outputs": [],
   "source": [
    "# Filter the data so that we are only looking at tech programmes:\n",
    "gen_df = gen_df[gen_df[\"ProgramName\"].isin([\"Technology - Cloud Operations Engineer\", \n",
    "                                                 \"Technology - Data Engineering\", \n",
    "                                                 \"Data Analytics\", \"IT Support\", \n",
    "                                                 \"Tech Talent Accelerator - Software Engineering\", \n",
    "                                                 \"Google Cloud\"])]\n",
    "\n",
    "# Filter data so that we are only looking at individuals that have graduated more than 180 days ago:\n",
    "gen_df = gen_df[gen_df[\"Days Since Cohort Graduation\"] >= 180]"
   ]
  },
  {
   "cell_type": "code",
   "execution_count": 767,
   "id": "8f474b69-edc8-4742-b223-570dc7091400",
   "metadata": {},
   "outputs": [],
   "source": [
    "# Remove Dublin, this is the only Irish cohort and is an outlier in the dataset:\n",
    "gen_df = gen_df.drop(gen_df[gen_df[\"Cohort_City\"]==\"Dublin\"].index)"
   ]
  },
  {
   "cell_type": "code",
   "execution_count": 768,
   "id": "3986a542-b6fd-49ab-8da1-841487447a3a",
   "metadata": {},
   "outputs": [],
   "source": [
    "# Clean \"learnerSpecialNeedsDetails\" before creating a wordcloud:\n",
    "\n",
    "Needs_clean = gen_df[[\"learnerSpecialNeedsDetails\", \"ProgramName\"]].dropna()\n",
    "Needs_clean = Needs_clean.drop(Needs_clean[Needs_clean[\"learnerSpecialNeedsDetails\"]==\"No\"].index)\n",
    "Needs_clean = Needs_clean.drop(Needs_clean[Needs_clean[\"learnerSpecialNeedsDetails\"]==\"NIL\"].index)\n",
    "Needs_clean = Needs_clean.drop(Needs_clean[Needs_clean[\"learnerSpecialNeedsDetails\"]==\"Non\"].index)\n",
    "Needs_clean = Needs_clean.drop(Needs_clean[Needs_clean[\"learnerSpecialNeedsDetails\"]==\"NONE\"].index)\n",
    "Needs_clean = Needs_clean.drop(Needs_clean[Needs_clean[\"learnerSpecialNeedsDetails\"]==\"nan\"].index)"
   ]
  },
  {
   "cell_type": "code",
   "execution_count": 769,
   "id": "86d98c7d-1a8a-434f-8ec0-c2a0149ee6cd",
   "metadata": {},
   "outputs": [],
   "source": [
    "def find_text(x):\n",
    "    if x != 0:\n",
    "        return 1\n",
    "    else:\n",
    "        return 0"
   ]
  },
  {
   "cell_type": "code",
   "execution_count": 770,
   "id": "12120ac4-5cea-4295-b0bc-459b8fa885dd",
   "metadata": {},
   "outputs": [],
   "source": [
    "gen_df[\"learnerSpecialNeedsDetails_bool\"] = gen_df[\"learnerSpecialNeedsDetails\"].fillna(0)\n",
    "gen_df[\"learnerSpecialNeedsDetails_bool\"] = gen_df[\"learnerSpecialNeedsDetails_bool\"].replace(to_replace= [\"No\", \"NIL\", \"Non\", \"NONE\", \"nan\"],\n",
    "                                                                                              value= 0)\n",
    "gen_df[\"learnerSpecialNeedsDetails_bool\"] = gen_df[\"learnerSpecialNeedsDetails_bool\"].apply(find_text)"
   ]
  },
  {
   "cell_type": "code",
   "execution_count": 771,
   "id": "37f4bd71-7327-4b43-8297-f24702a148b7",
   "metadata": {},
   "outputs": [],
   "source": [
    "def find_women_and_nb(x):\n",
    "    if x in [\"Female\", \"Non-binary\", \"Other\"]:\n",
    "        return 1\n",
    "    else:\n",
    "        return 0"
   ]
  },
  {
   "cell_type": "code",
   "execution_count": 772,
   "id": "4cd63955-c2d0-4b5e-a350-24a6dc33a6c8",
   "metadata": {},
   "outputs": [],
   "source": [
    "gen_df[\"gender_bool\"] = gen_df[\"gender\"].apply(find_women_and_nb)"
   ]
  },
  {
   "cell_type": "code",
   "execution_count": 773,
   "id": "fe4d289b-fc31-440d-9fb1-bbbb0874c7b7",
   "metadata": {},
   "outputs": [],
   "source": [
    "# replace nans in enrolment status with \"Unknown\"\n",
    "# replace nans in employed within 90 days with 0\n",
    "\n",
    "gen_df[\"Enrolment_Status\"].fillna(\"Unknown Enrolment\", inplace=True)\n",
    "gen_df[\"Employment_Status\"].fillna(\"Unknown Employment\", inplace=True)\n",
    "\n",
    "gen_df[\"Employed_within_90D\"].fillna(0, inplace=True)\n",
    "gen_df[\"Employed_within_90D_text\"] = gen_df[\"Employed_within_90D\"].replace(to_replace= [0, 1],\n",
    "                                                                           value= [\"Not employed 90D\", \"Employed 90D\"])\n",
    "\n",
    "gen_df[\"Employed_within_180D\"].fillna(0, inplace=True)\n",
    "gen_df[\"Employed_within_180D_text\"] = gen_df[\"Employed_within_180D\"].replace(to_replace= [0, 1],\n",
    "                                                                           value= [\"Not employed 180D\", \"Employed 180D\"])\n",
    "\n",
    "gen_df[\"Ethnicity_Group\"].fillna(\"Not disclosed\", inplace=True)"
   ]
  },
  {
   "cell_type": "code",
   "execution_count": 774,
   "id": "2c4e331e-7b70-4740-b53c-ddf879e9339f",
   "metadata": {},
   "outputs": [],
   "source": [
    "gen_df[\"Employment_Status\"]= gen_df[\"Employment_Status\"].replace(to_replace= [\"Placed\", \"Unknown\", \"Internship\"],\n",
    "                                    value= [\"Employed\", \"Unknown Employment\", \"Employed\"])"
   ]
  },
  {
   "cell_type": "code",
   "execution_count": 775,
   "id": "2944cd66-36d6-42a9-b7aa-25f037da0621",
   "metadata": {},
   "outputs": [],
   "source": [
    "gen_df[\"Ethnicity_Group\"] = gen_df[\"Ethnicity_Group\"].replace(to_replace= \"Roma, Gypsy or Irish traveller\",\n",
    "                                                              value= \"Other\")"
   ]
  },
  {
   "cell_type": "code",
   "execution_count": 776,
   "id": "16b555b9-e8c3-4308-963a-98bd5ae8ef98",
   "metadata": {},
   "outputs": [],
   "source": [
    "gen_df[\"gender\"] = gen_df[\"gender\"].replace(to_replace= [\"Other/Prefer to self describe\", \"Choose not to identify\"],\n",
    "                                            value= [\"Other\", \"Prefer not to say\"])"
   ]
  },
  {
   "cell_type": "markdown",
   "id": "afba7bb7-d545-4e21-ae46-4df448ffde69",
   "metadata": {},
   "source": [
    "##### cleaning specific features ahead of heatmap correlation analysis\n",
    "\n",
    "There are quite a lot of missing data in this dataset. for that reason I have carefully selected features that are as complete as possible to use for the correlation analysis. The features that were excluded from this portion of the EDA due to high numbers of NaN valuse include:\n",
    "\n",
    "Features excluded from heatmap analysis due to large % of NaN:\n",
    "- is_low_socio_econ\n",
    "- is_unempl_12+_mths\n",
    "- is_unemployed_pre_gen\n",
    "- Job_start_speed\n",
    "- socioeconStatusMap - needs ordinality assigned\n",
    "- Average Score - Soft Skills\n",
    "- Average Score - Technical Skills\n",
    "\n",
    "Features included:\n",
    "- asylumSeeker*\n",
    "- Barriers value\n",
    "- Education level\n",
    "- has_degree\n",
    "- Has_dependents*\n",
    "- IMD_decile*\n",
    "- Is_30_or_over\n",
    "- Is_disabled\n",
    "- is_EAL\n",
    "- is_ethnic_minority*\n",
    "- is_LGBTQ+*\n",
    "- is_lone_parent*\n",
    "- Days Since Cohort Graduation\n",
    "- Total Days Absent\n",
    "- Total Days Late\n",
    "\n",
    "The features that have a star need data imputed. For most of these features (asylumSeeker, Has_dependents, is_ethnic_minority, is_LGBTQ, is_lone_parent) replaceing a null value with 0 is sufficient. This is because assigning a value of zero is equivalent to assuming this individual does not have this barrier. The error and bias from incorrectly lableing someone as having the barrier is greater than if we incorrectly lable someone as lacking the barrier. Aditionally, removing the rows completely would remove valuable data from other columns.\n",
    "\n",
    "Data imputation for the feature IMD_decile will be handled separately."
   ]
  },
  {
   "cell_type": "code",
   "execution_count": 777,
   "id": "4178111d-9ffc-4bca-a8f2-d0631fa225ef",
   "metadata": {},
   "outputs": [],
   "source": [
    "# cleaning specific features ahead of heatmap correlation analysis:\n",
    "# asylumSeeker, Has_dependents, is_ethnic_minority, is_LGBTQ+, is_lone_parent\n",
    "\n",
    "# Cleaning asylumSeeker:\n",
    "gen_df[\"asylumSeeker\"].fillna(\"No\", inplace=True)\n",
    "\n",
    "# Cleaning Has_dependents:\n",
    "gen_df[\"Has_dependents\"].fillna(0, inplace=True)\n",
    "\n",
    "# Cleaning is_ethnic_minority\n",
    "gen_df[\"is_ethnic_minority\"].fillna(0, inplace=True)\n",
    "\n",
    "# Cleaning is_LGBTQ+\n",
    "gen_df[\"is_LGBTQ+\"].fillna(0, inplace=True)\n",
    "\n",
    "# Cleaning is_lone_parent\n",
    "gen_df[\"is_lone_parent\"].fillna(0, inplace=True)\n"
   ]
  },
  {
   "cell_type": "markdown",
   "id": "ba56b362-2f93-4040-8067-fbfd526a9ab2",
   "metadata": {},
   "source": [
    "## Exploratory Data Analysis"
   ]
  },
  {
   "cell_type": "markdown",
   "id": "ecb962dc-6e16-4022-92ff-fe200988c828",
   "metadata": {},
   "source": [
    "#### What barriers do Generation UK & I learners face?"
   ]
  },
  {
   "cell_type": "markdown",
   "id": "0db3809a-be8a-41aa-ae9e-4758fd5b0366",
   "metadata": {},
   "source": [
    "In this analysis we look specifically into 15 different situational or demographic barriers:\n",
    "-   asylumSeeker                            \n",
    "-   Education level                         \n",
    "-   gender                                  \n",
    "-   has_degree                              \n",
    "-   Has_dependents                          \n",
    "-   IMD_decile                              \n",
    "-   Is_30_or_over                           \n",
    "-   Is_disabled                            \n",
    "-   is_EAL                                 \n",
    "-   is_ethnic_minority                      \n",
    "-   is_LGBTQ+                               \n",
    "-   is_lone_parent                         \n",
    "-   is_low_socio_econ                       \n",
    "-   is_unempl_12+_mths                      \n",
    "-   is_unemployed_pre_gen\n",
    "\n",
    "NOTE: The feature \"Barriers value\" is a count of all the barriers metrics that describe an individual learner.            "
   ]
  },
  {
   "cell_type": "code",
   "execution_count": 778,
   "id": "b6a0d268-3f74-4108-8373-5edee9ddec7f",
   "metadata": {},
   "outputs": [
    {
     "data": {
      "image/png": "[encoded data removed]",
      "text/plain": [
       "<Figure size 640x480 with 1 Axes>"
      ]
     },
     "metadata": {},
     "output_type": "display_data"
    }
   ],
   "source": [
    "sns.histplot(data= gen_df, \n",
    "             x=\"Barriers value\"\n",
    "            )\n",
    "\n",
    "plt.title(\"Number of barriers per learner - distribution\")\n",
    "plt.show()"
   ]
  },
  {
   "cell_type": "markdown",
   "id": "cfa6e56c-6c20-458a-955f-f5223491cc7c",
   "metadata": {},
   "source": [
    "#### What special needs are most common among learners\n",
    "The feature learnerSpecialNeedsDetails captures important information about the special needs that particular grad has. This is recorded by a generation staff member during the admissions process and helps staff understand how best to support this individual.\n",
    "\n",
    "Note: Most learners do not have any special needs so this data is reflecting the minority that have disclosed this information to Generation."
   ]
  },
  {
   "cell_type": "code",
   "execution_count": 779,
   "id": "55f9f10f-c76a-40fa-bf03-9f676dc802c6",
   "metadata": {},
   "outputs": [
    {
     "data": {
      "application/vnd.jupyter.widget-view+json": {
       "model_id": "0caaf32995e34a418574e4c4b48ba912",
       "version_major": 2,
       "version_minor": 0
      },
      "text/plain": [
       "interactive(children=(Dropdown(description='Prog_name', options=('Technology - Data Engineering', 'IT Support'…"
      ]
     },
     "metadata": {},
     "output_type": "display_data"
    }
   ],
   "source": [
    "# Learner special needs wordcloud:\n",
    "@interact\n",
    "def wordcloud_by_programme(Prog_name=Needs_clean[\"ProgramName\"].value_counts().index.tolist()):\n",
    "    text = \" \".join(i for i in Needs_clean[\"learnerSpecialNeedsDetails\"][Needs_clean[\"ProgramName\"]==Prog_name].astype(str))\n",
    "    stopwords = set(STOPWORDS)\n",
    "    wordcloud = WordCloud(stopwords=stopwords, background_color=\"white\").generate(text)\n",
    "    plt.figure( figsize=(15,10))\n",
    "    plt.imshow(wordcloud, interpolation='bilinear')\n",
    "    plt.axis(\"off\")\n",
    "    plt.show()"
   ]
  },
  {
   "cell_type": "markdown",
   "id": "55742919-59fb-4388-91a2-d2f399b6f5e5",
   "metadata": {},
   "source": [
    "#### How do these barriers correlate with each other and with other learner fetures?"
   ]
  },
  {
   "cell_type": "markdown",
   "id": "2e2f65c5-3ac6-4917-a538-2efcbfdae5ea",
   "metadata": {},
   "source": [
    "I will create a heatmap for visualising the relationships that exist between the barriers metrics. Before creating a heatmap in python there are three things I need to consider:\n",
    "1. Handle missing data\n",
    "2. remove outliers that may skew the results\n",
    "3. assign ordinality to my categorical data where necessary "
   ]
  },
  {
   "cell_type": "markdown",
   "id": "89519cea-cc4c-45b3-b7e8-bfc4723e3fcc",
   "metadata": {},
   "source": [
    "##### Preparing my data for the heatmap"
   ]
  },
  {
   "cell_type": "code",
   "execution_count": 783,
   "id": "2f9ed361-070d-4dea-ad7b-95b9421c1306",
   "metadata": {},
   "outputs": [],
   "source": [
    "# Assigning ordinality to categorical features:\n",
    "\n",
    "socioeconStatusMap_levels = CategoricalDtype(categories=[\"Exclude\", \"Lower socio-economic backgrounds\", \"Intermediate backgrounds\", \"Professional backgrounds\"], ordered=True)\n",
    "gen_df[\"socioeconStatusMap_ordered\"] = gen_df[\"socioeconStatusMap\"].astype(socioeconStatusMap_levels)\n",
    "\n",
    "asylumSeeker_levels = CategoricalDtype(categories=[\"No\", \"Choose not to say\", \"Yes\"], ordered=True)\n",
    "gen_df[\"asylumSeeker_ordered\"] = gen_df[\"asylumSeeker\"].astype(asylumSeeker_levels)\n",
    "\n",
    "gen_df[\"asylumSeeker_bool\"] = gen_df[\"asylumSeeker\"].replace(to_replace= [\"No\", \"Choose not to say\", \"Yes\"],\n",
    "                                                                  value= [0, 0, 1])\n"
   ]
  },
  {
   "cell_type": "code",
   "execution_count": 729,
   "id": "ba4de12c-f88b-4be5-b86c-d52053d64724",
   "metadata": {},
   "outputs": [],
   "source": [
    "# Fill the NaN values for the feature IMD_decile:\n"
   ]
  },
  {
   "cell_type": "code",
   "execution_count": 786,
   "id": "0418afd2-df7f-47b8-a7a0-165ae9a5fcf1",
   "metadata": {},
   "outputs": [],
   "source": [
    "# selecting the columns wanted for the heatmap and creating a df.\n",
    "\n",
    "heatmap_df = gen_df[['asylumSeeker_bool', \n",
    "                     'Barriers value',\n",
    "                     'Education level',\n",
    "                     'has_degree', \n",
    "                     'Has_dependents',\n",
    "                     'Is_30_or_over', \n",
    "                     'Is_disabled', \n",
    "                     'is_EAL', \n",
    "                     'is_ethnic_minority',\n",
    "                     'is_LGBTQ+', \n",
    "                     'is_lone_parent', \n",
    "                     'Days Since Cohort Graduation',\n",
    "                     'Total Days Absent', \n",
    "                     'Total Days Late',\n",
    "                     'gender_bool',\n",
    "                     'learnerSpecialNeedsDetails_bool'\n",
    "                    ]]"
   ]
  },
  {
   "cell_type": "code",
   "execution_count": null,
   "id": "9150a847-c780-4fc4-a34d-b356933eaa9e",
   "metadata": {
    "scrolled": true
   },
   "outputs": [],
   "source": [
    "# isnull_temp = gen_df[['asylumSeeker_bool',\n",
    "#                      'Barriers value',\n",
    "#                      'Education level',\n",
    "#                      'has_degree', \n",
    "#                      'Has_dependents',\n",
    "#                      'Is_30_or_over', \n",
    "#                      'Is_disabled', \n",
    "#                      'is_EAL', \n",
    "#                      'is_ethnic_minority',\n",
    "#                      'is_LGBTQ+', \n",
    "#                      'is_lone_parent', \n",
    "#                      'Days Since Cohort Graduation',\n",
    "#                      'Total Days Absent', \n",
    "#                      'Total Days Late',\n",
    "#                      'gender_bool',\n",
    "#                      'learnerSpecialNeedsDetails_bool'\n",
    "#                     ]].isnull().groupby(gen_df[\"Cohort_name\"]).sum()\n",
    "# pd.set_option('display.max_rows', 500)\n",
    "# pd.set_option('display.max_columns', 500)\n",
    "# isnull_temp"
   ]
  },
  {
   "cell_type": "code",
   "execution_count": 788,
   "id": "b30170ba-82da-4cfa-91bf-d8dd4796678c",
   "metadata": {},
   "outputs": [],
   "source": [
    "# Extracting column names from the heatmap df\n",
    "column_names=heatmap_df.columns\n",
    "\n",
    "# Assiging column names to row indexs to create the matrix\n",
    "chisqmatrix=pd.DataFrame(heatmap_df,columns=column_names,index=column_names)"
   ]
  },
  {
   "cell_type": "code",
   "execution_count": 789,
   "id": "749448fd-a6dc-4e63-8ec5-5b2e482e432f",
   "metadata": {
    "scrolled": true
   },
   "outputs": [],
   "source": [
    "# Setting counters to zero\n",
    "outercnt=0\n",
    "innercnt=0\n",
    "\n",
    "for icol in column_names: # Outer loop\n",
    "    for jcol in column_names: # inner loop\n",
    "         # Converting to cross tab as for CHi-square test we have\n",
    "         # to first convert variables into contigency table\n",
    "         mycrosstab=pd.crosstab(heatmap_df[icol],heatmap_df[jcol])\n",
    "        \n",
    "         #Getting p-value and other usefull information\n",
    "         stat,p,dof,expected=stats.chi2_contingency(mycrosstab)\n",
    "        \n",
    "         # Rounding very small p-values to zero\n",
    "         chisqmatrix.iloc[outercnt,innercnt]=round(p,5)\n",
    "        \n",
    "         # As mentioned above Expected frequencies should be at \n",
    "         # least 5 for the majority (80%) of the cells.\n",
    "         # Here we are checking expected frequency of each group\n",
    "         cntexpected=expected[expected<5].size\n",
    "\n",
    "         #Getting percentage \n",
    "         perexpected=((expected.size-cntexpected)/expected.size)*100"
   ]
  },
  {
   "cell_type": "code",
   "execution_count": 790,
   "id": "7f8d0a5a-29d4-4ebb-95bc-ac678e6cacb5",
   "metadata": {},
   "outputs": [],
   "source": [
    "if perexpected<20:\n",
    "    chisqmatrix.iloc[outercnt,innercnt]=2 #Assigning 2\n",
    " \n",
    "if icol==jcol:\n",
    "    chisqmatrix.iloc[outercnt,innercnt]=0.00\n",
    "    innercnt=innercnt+1\n",
    "    outercnt=outercnt+1\n",
    "    innercnt=0"
   ]
  },
  {
   "cell_type": "code",
   "execution_count": 791,
   "id": "1e764b4d-cd59-4a21-aa08-9525484e08e5",
   "metadata": {},
   "outputs": [
    {
     "data": {
      "text/html": [
       "<div>\n",
       "<style scoped>\n",
       "    .dataframe tbody tr th:only-of-type {\n",
       "        vertical-align: middle;\n",
       "    }\n",
       "\n",
       "    .dataframe tbody tr th {\n",
       "        vertical-align: top;\n",
       "    }\n",
       "\n",
       "    .dataframe thead th {\n",
       "        text-align: right;\n",
       "    }\n",
       "</style>\n",
       "<table border=\"1\" class=\"dataframe\">\n",
       "  <thead>\n",
       "    <tr style=\"text-align: right;\">\n",
       "      <th></th>\n",
       "      <th>asylumSeeker_bool</th>\n",
       "      <th>Barriers value</th>\n",
       "      <th>Education level</th>\n",
       "      <th>has_degree</th>\n",
       "      <th>Has_dependents</th>\n",
       "      <th>Is_30_or_over</th>\n",
       "      <th>Is_disabled</th>\n",
       "      <th>is_EAL</th>\n",
       "      <th>is_ethnic_minority</th>\n",
       "      <th>is_LGBTQ+</th>\n",
       "      <th>is_lone_parent</th>\n",
       "      <th>Days Since Cohort Graduation</th>\n",
       "      <th>Total Days Absent</th>\n",
       "      <th>Total Days Late</th>\n",
       "      <th>gender_bool</th>\n",
       "      <th>learnerSpecialNeedsDetails_bool</th>\n",
       "    </tr>\n",
       "  </thead>\n",
       "  <tbody>\n",
       "    <tr>\n",
       "      <th>asylumSeeker_bool</th>\n",
       "      <td>0.0</td>\n",
       "      <td>NaN</td>\n",
       "      <td>NaN</td>\n",
       "      <td>NaN</td>\n",
       "      <td>NaN</td>\n",
       "      <td>NaN</td>\n",
       "      <td>NaN</td>\n",
       "      <td>NaN</td>\n",
       "      <td>NaN</td>\n",
       "      <td>NaN</td>\n",
       "      <td>NaN</td>\n",
       "      <td>NaN</td>\n",
       "      <td>NaN</td>\n",
       "      <td>NaN</td>\n",
       "      <td>NaN</td>\n",
       "      <td>NaN</td>\n",
       "    </tr>\n",
       "    <tr>\n",
       "      <th>Barriers value</th>\n",
       "      <td>NaN</td>\n",
       "      <td>NaN</td>\n",
       "      <td>NaN</td>\n",
       "      <td>NaN</td>\n",
       "      <td>NaN</td>\n",
       "      <td>NaN</td>\n",
       "      <td>NaN</td>\n",
       "      <td>NaN</td>\n",
       "      <td>NaN</td>\n",
       "      <td>NaN</td>\n",
       "      <td>NaN</td>\n",
       "      <td>NaN</td>\n",
       "      <td>NaN</td>\n",
       "      <td>NaN</td>\n",
       "      <td>NaN</td>\n",
       "      <td>NaN</td>\n",
       "    </tr>\n",
       "    <tr>\n",
       "      <th>Education level</th>\n",
       "      <td>NaN</td>\n",
       "      <td>NaN</td>\n",
       "      <td>NaN</td>\n",
       "      <td>NaN</td>\n",
       "      <td>NaN</td>\n",
       "      <td>NaN</td>\n",
       "      <td>NaN</td>\n",
       "      <td>NaN</td>\n",
       "      <td>NaN</td>\n",
       "      <td>NaN</td>\n",
       "      <td>NaN</td>\n",
       "      <td>NaN</td>\n",
       "      <td>NaN</td>\n",
       "      <td>NaN</td>\n",
       "      <td>NaN</td>\n",
       "      <td>NaN</td>\n",
       "    </tr>\n",
       "    <tr>\n",
       "      <th>has_degree</th>\n",
       "      <td>NaN</td>\n",
       "      <td>NaN</td>\n",
       "      <td>NaN</td>\n",
       "      <td>NaN</td>\n",
       "      <td>NaN</td>\n",
       "      <td>NaN</td>\n",
       "      <td>NaN</td>\n",
       "      <td>NaN</td>\n",
       "      <td>NaN</td>\n",
       "      <td>NaN</td>\n",
       "      <td>NaN</td>\n",
       "      <td>NaN</td>\n",
       "      <td>NaN</td>\n",
       "      <td>NaN</td>\n",
       "      <td>NaN</td>\n",
       "      <td>NaN</td>\n",
       "    </tr>\n",
       "    <tr>\n",
       "      <th>Has_dependents</th>\n",
       "      <td>NaN</td>\n",
       "      <td>NaN</td>\n",
       "      <td>NaN</td>\n",
       "      <td>NaN</td>\n",
       "      <td>NaN</td>\n",
       "      <td>NaN</td>\n",
       "      <td>NaN</td>\n",
       "      <td>NaN</td>\n",
       "      <td>NaN</td>\n",
       "      <td>NaN</td>\n",
       "      <td>NaN</td>\n",
       "      <td>NaN</td>\n",
       "      <td>NaN</td>\n",
       "      <td>NaN</td>\n",
       "      <td>NaN</td>\n",
       "      <td>NaN</td>\n",
       "    </tr>\n",
       "    <tr>\n",
       "      <th>Is_30_or_over</th>\n",
       "      <td>NaN</td>\n",
       "      <td>NaN</td>\n",
       "      <td>NaN</td>\n",
       "      <td>NaN</td>\n",
       "      <td>NaN</td>\n",
       "      <td>NaN</td>\n",
       "      <td>NaN</td>\n",
       "      <td>NaN</td>\n",
       "      <td>NaN</td>\n",
       "      <td>NaN</td>\n",
       "      <td>NaN</td>\n",
       "      <td>NaN</td>\n",
       "      <td>NaN</td>\n",
       "      <td>NaN</td>\n",
       "      <td>NaN</td>\n",
       "      <td>NaN</td>\n",
       "    </tr>\n",
       "    <tr>\n",
       "      <th>Is_disabled</th>\n",
       "      <td>NaN</td>\n",
       "      <td>NaN</td>\n",
       "      <td>NaN</td>\n",
       "      <td>NaN</td>\n",
       "      <td>NaN</td>\n",
       "      <td>NaN</td>\n",
       "      <td>NaN</td>\n",
       "      <td>NaN</td>\n",
       "      <td>NaN</td>\n",
       "      <td>NaN</td>\n",
       "      <td>NaN</td>\n",
       "      <td>NaN</td>\n",
       "      <td>NaN</td>\n",
       "      <td>NaN</td>\n",
       "      <td>NaN</td>\n",
       "      <td>NaN</td>\n",
       "    </tr>\n",
       "    <tr>\n",
       "      <th>is_EAL</th>\n",
       "      <td>NaN</td>\n",
       "      <td>NaN</td>\n",
       "      <td>NaN</td>\n",
       "      <td>NaN</td>\n",
       "      <td>NaN</td>\n",
       "      <td>NaN</td>\n",
       "      <td>NaN</td>\n",
       "      <td>NaN</td>\n",
       "      <td>NaN</td>\n",
       "      <td>NaN</td>\n",
       "      <td>NaN</td>\n",
       "      <td>NaN</td>\n",
       "      <td>NaN</td>\n",
       "      <td>NaN</td>\n",
       "      <td>NaN</td>\n",
       "      <td>NaN</td>\n",
       "    </tr>\n",
       "    <tr>\n",
       "      <th>is_ethnic_minority</th>\n",
       "      <td>NaN</td>\n",
       "      <td>NaN</td>\n",
       "      <td>NaN</td>\n",
       "      <td>NaN</td>\n",
       "      <td>NaN</td>\n",
       "      <td>NaN</td>\n",
       "      <td>NaN</td>\n",
       "      <td>NaN</td>\n",
       "      <td>NaN</td>\n",
       "      <td>NaN</td>\n",
       "      <td>NaN</td>\n",
       "      <td>NaN</td>\n",
       "      <td>NaN</td>\n",
       "      <td>NaN</td>\n",
       "      <td>NaN</td>\n",
       "      <td>NaN</td>\n",
       "    </tr>\n",
       "    <tr>\n",
       "      <th>is_LGBTQ+</th>\n",
       "      <td>NaN</td>\n",
       "      <td>NaN</td>\n",
       "      <td>NaN</td>\n",
       "      <td>NaN</td>\n",
       "      <td>NaN</td>\n",
       "      <td>NaN</td>\n",
       "      <td>NaN</td>\n",
       "      <td>NaN</td>\n",
       "      <td>NaN</td>\n",
       "      <td>NaN</td>\n",
       "      <td>NaN</td>\n",
       "      <td>NaN</td>\n",
       "      <td>NaN</td>\n",
       "      <td>NaN</td>\n",
       "      <td>NaN</td>\n",
       "      <td>NaN</td>\n",
       "    </tr>\n",
       "    <tr>\n",
       "      <th>is_lone_parent</th>\n",
       "      <td>NaN</td>\n",
       "      <td>NaN</td>\n",
       "      <td>NaN</td>\n",
       "      <td>NaN</td>\n",
       "      <td>NaN</td>\n",
       "      <td>NaN</td>\n",
       "      <td>NaN</td>\n",
       "      <td>NaN</td>\n",
       "      <td>NaN</td>\n",
       "      <td>NaN</td>\n",
       "      <td>NaN</td>\n",
       "      <td>NaN</td>\n",
       "      <td>NaN</td>\n",
       "      <td>NaN</td>\n",
       "      <td>NaN</td>\n",
       "      <td>NaN</td>\n",
       "    </tr>\n",
       "    <tr>\n",
       "      <th>Days Since Cohort Graduation</th>\n",
       "      <td>NaN</td>\n",
       "      <td>NaN</td>\n",
       "      <td>NaN</td>\n",
       "      <td>NaN</td>\n",
       "      <td>NaN</td>\n",
       "      <td>NaN</td>\n",
       "      <td>NaN</td>\n",
       "      <td>NaN</td>\n",
       "      <td>NaN</td>\n",
       "      <td>NaN</td>\n",
       "      <td>NaN</td>\n",
       "      <td>NaN</td>\n",
       "      <td>NaN</td>\n",
       "      <td>NaN</td>\n",
       "      <td>NaN</td>\n",
       "      <td>NaN</td>\n",
       "    </tr>\n",
       "    <tr>\n",
       "      <th>Total Days Absent</th>\n",
       "      <td>NaN</td>\n",
       "      <td>NaN</td>\n",
       "      <td>NaN</td>\n",
       "      <td>NaN</td>\n",
       "      <td>NaN</td>\n",
       "      <td>NaN</td>\n",
       "      <td>NaN</td>\n",
       "      <td>NaN</td>\n",
       "      <td>NaN</td>\n",
       "      <td>NaN</td>\n",
       "      <td>NaN</td>\n",
       "      <td>NaN</td>\n",
       "      <td>NaN</td>\n",
       "      <td>NaN</td>\n",
       "      <td>NaN</td>\n",
       "      <td>NaN</td>\n",
       "    </tr>\n",
       "    <tr>\n",
       "      <th>Total Days Late</th>\n",
       "      <td>NaN</td>\n",
       "      <td>NaN</td>\n",
       "      <td>NaN</td>\n",
       "      <td>NaN</td>\n",
       "      <td>NaN</td>\n",
       "      <td>NaN</td>\n",
       "      <td>NaN</td>\n",
       "      <td>NaN</td>\n",
       "      <td>NaN</td>\n",
       "      <td>NaN</td>\n",
       "      <td>NaN</td>\n",
       "      <td>NaN</td>\n",
       "      <td>NaN</td>\n",
       "      <td>NaN</td>\n",
       "      <td>NaN</td>\n",
       "      <td>NaN</td>\n",
       "    </tr>\n",
       "    <tr>\n",
       "      <th>gender_bool</th>\n",
       "      <td>NaN</td>\n",
       "      <td>NaN</td>\n",
       "      <td>NaN</td>\n",
       "      <td>NaN</td>\n",
       "      <td>NaN</td>\n",
       "      <td>NaN</td>\n",
       "      <td>NaN</td>\n",
       "      <td>NaN</td>\n",
       "      <td>NaN</td>\n",
       "      <td>NaN</td>\n",
       "      <td>NaN</td>\n",
       "      <td>NaN</td>\n",
       "      <td>NaN</td>\n",
       "      <td>NaN</td>\n",
       "      <td>NaN</td>\n",
       "      <td>NaN</td>\n",
       "    </tr>\n",
       "    <tr>\n",
       "      <th>learnerSpecialNeedsDetails_bool</th>\n",
       "      <td>NaN</td>\n",
       "      <td>NaN</td>\n",
       "      <td>NaN</td>\n",
       "      <td>NaN</td>\n",
       "      <td>NaN</td>\n",
       "      <td>NaN</td>\n",
       "      <td>NaN</td>\n",
       "      <td>NaN</td>\n",
       "      <td>NaN</td>\n",
       "      <td>NaN</td>\n",
       "      <td>NaN</td>\n",
       "      <td>NaN</td>\n",
       "      <td>NaN</td>\n",
       "      <td>NaN</td>\n",
       "      <td>NaN</td>\n",
       "      <td>NaN</td>\n",
       "    </tr>\n",
       "  </tbody>\n",
       "</table>\n",
       "</div>"
      ],
      "text/plain": [
       "                                 asylumSeeker_bool  Barriers value  \\\n",
       "asylumSeeker_bool                              0.0             NaN   \n",
       "Barriers value                                 NaN             NaN   \n",
       "Education level                                NaN             NaN   \n",
       "has_degree                                     NaN             NaN   \n",
       "Has_dependents                                 NaN             NaN   \n",
       "Is_30_or_over                                  NaN             NaN   \n",
       "Is_disabled                                    NaN             NaN   \n",
       "is_EAL                                         NaN             NaN   \n",
       "is_ethnic_minority                             NaN             NaN   \n",
       "is_LGBTQ+                                      NaN             NaN   \n",
       "is_lone_parent                                 NaN             NaN   \n",
       "Days Since Cohort Graduation                   NaN             NaN   \n",
       "Total Days Absent                              NaN             NaN   \n",
       "Total Days Late                                NaN             NaN   \n",
       "gender_bool                                    NaN             NaN   \n",
       "learnerSpecialNeedsDetails_bool                NaN             NaN   \n",
       "\n",
       "                                Education level  has_degree  Has_dependents  \\\n",
       "asylumSeeker_bool                           NaN         NaN             NaN   \n",
       "Barriers value                              NaN         NaN             NaN   \n",
       "Education level                             NaN         NaN             NaN   \n",
       "has_degree                                  NaN         NaN             NaN   \n",
       "Has_dependents                              NaN         NaN             NaN   \n",
       "Is_30_or_over                               NaN         NaN             NaN   \n",
       "Is_disabled                                 NaN         NaN             NaN   \n",
       "is_EAL                                      NaN         NaN             NaN   \n",
       "is_ethnic_minority                          NaN         NaN             NaN   \n",
       "is_LGBTQ+                                   NaN         NaN             NaN   \n",
       "is_lone_parent                              NaN         NaN             NaN   \n",
       "Days Since Cohort Graduation                NaN         NaN             NaN   \n",
       "Total Days Absent                           NaN         NaN             NaN   \n",
       "Total Days Late                             NaN         NaN             NaN   \n",
       "gender_bool                                 NaN         NaN             NaN   \n",
       "learnerSpecialNeedsDetails_bool             NaN         NaN             NaN   \n",
       "\n",
       "                                 Is_30_or_over  Is_disabled  is_EAL  \\\n",
       "asylumSeeker_bool                          NaN          NaN     NaN   \n",
       "Barriers value                             NaN          NaN     NaN   \n",
       "Education level                            NaN          NaN     NaN   \n",
       "has_degree                                 NaN          NaN     NaN   \n",
       "Has_dependents                             NaN          NaN     NaN   \n",
       "Is_30_or_over                              NaN          NaN     NaN   \n",
       "Is_disabled                                NaN          NaN     NaN   \n",
       "is_EAL                                     NaN          NaN     NaN   \n",
       "is_ethnic_minority                         NaN          NaN     NaN   \n",
       "is_LGBTQ+                                  NaN          NaN     NaN   \n",
       "is_lone_parent                             NaN          NaN     NaN   \n",
       "Days Since Cohort Graduation               NaN          NaN     NaN   \n",
       "Total Days Absent                          NaN          NaN     NaN   \n",
       "Total Days Late                            NaN          NaN     NaN   \n",
       "gender_bool                                NaN          NaN     NaN   \n",
       "learnerSpecialNeedsDetails_bool            NaN          NaN     NaN   \n",
       "\n",
       "                                 is_ethnic_minority  is_LGBTQ+  \\\n",
       "asylumSeeker_bool                               NaN        NaN   \n",
       "Barriers value                                  NaN        NaN   \n",
       "Education level                                 NaN        NaN   \n",
       "has_degree                                      NaN        NaN   \n",
       "Has_dependents                                  NaN        NaN   \n",
       "Is_30_or_over                                   NaN        NaN   \n",
       "Is_disabled                                     NaN        NaN   \n",
       "is_EAL                                          NaN        NaN   \n",
       "is_ethnic_minority                              NaN        NaN   \n",
       "is_LGBTQ+                                       NaN        NaN   \n",
       "is_lone_parent                                  NaN        NaN   \n",
       "Days Since Cohort Graduation                    NaN        NaN   \n",
       "Total Days Absent                               NaN        NaN   \n",
       "Total Days Late                                 NaN        NaN   \n",
       "gender_bool                                     NaN        NaN   \n",
       "learnerSpecialNeedsDetails_bool                 NaN        NaN   \n",
       "\n",
       "                                 is_lone_parent  Days Since Cohort Graduation  \\\n",
       "asylumSeeker_bool                           NaN                           NaN   \n",
       "Barriers value                              NaN                           NaN   \n",
       "Education level                             NaN                           NaN   \n",
       "has_degree                                  NaN                           NaN   \n",
       "Has_dependents                              NaN                           NaN   \n",
       "Is_30_or_over                               NaN                           NaN   \n",
       "Is_disabled                                 NaN                           NaN   \n",
       "is_EAL                                      NaN                           NaN   \n",
       "is_ethnic_minority                          NaN                           NaN   \n",
       "is_LGBTQ+                                   NaN                           NaN   \n",
       "is_lone_parent                              NaN                           NaN   \n",
       "Days Since Cohort Graduation                NaN                           NaN   \n",
       "Total Days Absent                           NaN                           NaN   \n",
       "Total Days Late                             NaN                           NaN   \n",
       "gender_bool                                 NaN                           NaN   \n",
       "learnerSpecialNeedsDetails_bool             NaN                           NaN   \n",
       "\n",
       "                                 Total Days Absent  Total Days Late  \\\n",
       "asylumSeeker_bool                              NaN              NaN   \n",
       "Barriers value                                 NaN              NaN   \n",
       "Education level                                NaN              NaN   \n",
       "has_degree                                     NaN              NaN   \n",
       "Has_dependents                                 NaN              NaN   \n",
       "Is_30_or_over                                  NaN              NaN   \n",
       "Is_disabled                                    NaN              NaN   \n",
       "is_EAL                                         NaN              NaN   \n",
       "is_ethnic_minority                             NaN              NaN   \n",
       "is_LGBTQ+                                      NaN              NaN   \n",
       "is_lone_parent                                 NaN              NaN   \n",
       "Days Since Cohort Graduation                   NaN              NaN   \n",
       "Total Days Absent                              NaN              NaN   \n",
       "Total Days Late                                NaN              NaN   \n",
       "gender_bool                                    NaN              NaN   \n",
       "learnerSpecialNeedsDetails_bool                NaN              NaN   \n",
       "\n",
       "                                 gender_bool  learnerSpecialNeedsDetails_bool  \n",
       "asylumSeeker_bool                        NaN                              NaN  \n",
       "Barriers value                           NaN                              NaN  \n",
       "Education level                          NaN                              NaN  \n",
       "has_degree                               NaN                              NaN  \n",
       "Has_dependents                           NaN                              NaN  \n",
       "Is_30_or_over                            NaN                              NaN  \n",
       "Is_disabled                              NaN                              NaN  \n",
       "is_EAL                                   NaN                              NaN  \n",
       "is_ethnic_minority                       NaN                              NaN  \n",
       "is_LGBTQ+                                NaN                              NaN  \n",
       "is_lone_parent                           NaN                              NaN  \n",
       "Days Since Cohort Graduation             NaN                              NaN  \n",
       "Total Days Absent                        NaN                              NaN  \n",
       "Total Days Late                          NaN                              NaN  \n",
       "gender_bool                              NaN                              NaN  \n",
       "learnerSpecialNeedsDetails_bool          NaN                              NaN  "
      ]
     },
     "execution_count": 791,
     "metadata": {},
     "output_type": "execute_result"
    }
   ],
   "source": [
    "chisqmatrix"
   ]
  },
  {
   "cell_type": "code",
   "execution_count": null,
   "id": "9e885da2-de49-46a7-a477-284eebeef097",
   "metadata": {},
   "outputs": [],
   "source": []
  },
  {
   "cell_type": "code",
   "execution_count": null,
   "id": "3567ebc5-9c5f-4bc5-9a8e-c778016e3173",
   "metadata": {},
   "outputs": [],
   "source": []
  },
  {
   "cell_type": "code",
   "execution_count": null,
   "id": "53c13a7a-3624-4454-9721-a750c85fe97a",
   "metadata": {},
   "outputs": [],
   "source": []
  },
  {
   "cell_type": "markdown",
   "id": "63bf87b1-dd0b-4fad-839f-338c6f3f20df",
   "metadata": {},
   "source": [
    "#### Are there program-specific or region-specific trends in these barriers and their impact on placement outcomes?"
   ]
  },
  {
   "cell_type": "code",
   "execution_count": 739,
   "id": "bf0371ea-7ec2-4cfa-bf2c-2f9b1ac2c241",
   "metadata": {},
   "outputs": [
    {
     "data": {
      "application/vnd.jupyter.widget-view+json": {
       "model_id": "ee229831bdaa4eeaa5647ca7e9238cb0",
       "version_major": 2,
       "version_minor": 0
      },
      "text/plain": [
       "interactive(children=(Dropdown(description='barrier', options=('Is_30_or_over', 'Is_disabled', 'is_EAL', 'is_e…"
      ]
     },
     "metadata": {},
     "output_type": "display_data"
    }
   ],
   "source": [
    "# Create a stacked bar chart:\n",
    "\n",
    "@interact\n",
    "def stacked_barchart(barrier=[\"Is_30_or_over\", \n",
    "                              \"Is_disabled\", \n",
    "                              \"is_EAL\", \n",
    "                              \"is_ethnic_minority\", \n",
    "                              \"is_LGBTQ+\", \n",
    "                              \"is_lone_parent\", \n",
    "                              \"is_low_socio_econ\",\n",
    "                              \"is_unempl_12+_mths\",\n",
    "                              \"is_unemployed_pre_gen\",\n",
    "                              \"is_unsatisfied_empl_pre_gen\",\n",
    "                              \"learnerSpecialNeedsDetails_bool\",\n",
    "                              \"gender_bool\"\n",
    "                             ]):\n",
    "    # import libraries\n",
    "    import matplotlib.patches as mpatches\n",
    "    \n",
    "    # set the figure size\n",
    "    fig = plt.figure(figsize=(16, 10))\n",
    "    ax = plt.subplot(111)\n",
    "    \n",
    "    # from raw value to percentage\n",
    "    grads_per_programme_count = gen_df.groupby('ProgramName')['Student_ID'].count().reset_index()\n",
    "    barrier_per_programme = gen_df.groupby('ProgramName')[barrier].sum().reset_index()\n",
    "    barrier_per_programme[barrier] = [i / j * 100 for i,j in zip(barrier_per_programme[barrier], grads_per_programme_count['Student_ID'])]\n",
    "    grads_per_programme_count['Student_ID'] = [i / j * 100 for i,j in zip(grads_per_programme_count['Student_ID'], grads_per_programme_count['Student_ID'])]\n",
    "    \n",
    "    # bar chart 1 -> top bars (group of 'smoker=No')\n",
    "    bar1 = sns.barplot(y=\"ProgramName\",  x=\"Student_ID\", data=grads_per_programme_count, color='darkblue')\n",
    "    \n",
    "    # bar chart 2 -> bottom bars (group of 'smoker=Yes')\n",
    "    bar2 = sns.barplot(y=\"ProgramName\", x=barrier, data=barrier_per_programme, color='lightblue')\n",
    "    \n",
    "    # add legend\n",
    "    top_bar = mpatches.Patch(color='darkblue', label=f'Not {barrier}')\n",
    "    bottom_bar = mpatches.Patch(color='lightblue', label= f'{barrier}')\n",
    "    plt.legend(handles=[top_bar, bottom_bar], bbox_to_anchor=(1.04, 1), loc=\"upper left\")\n",
    "    \n",
    "    # show the graph\n",
    "    plt.ylabel(\"\")\n",
    "    plt.xlabel(\"% of Students\")\n",
    "    plt.rcParams.update({'font.size': 24})\n",
    "    plt.show()"
   ]
  },
  {
   "cell_type": "markdown",
   "id": "1d209e1f-4983-4228-99da-dce51d84843a",
   "metadata": {},
   "source": [
    "#### does placement speed vary per region? per programme? and how do the barriers factor in?"
   ]
  },
  {
   "cell_type": "code",
   "execution_count": null,
   "id": "26489be3-b3a7-46d5-9467-56cb6d546b6e",
   "metadata": {},
   "outputs": [],
   "source": []
  },
  {
   "cell_type": "code",
   "execution_count": null,
   "id": "340eada3-96d1-440a-a0d2-5c46d3e3abae",
   "metadata": {},
   "outputs": [],
   "source": []
  },
  {
   "cell_type": "code",
   "execution_count": 740,
   "id": "d6fb5e66-a6e5-47fb-8db8-d561114fb5a0",
   "metadata": {},
   "outputs": [],
   "source": [
    "def Sankey_data_preprocessing(feature_list, data, stop_points = None):\n",
    "    # replace with feature_list\n",
    "    \n",
    "    source_ = [] \n",
    "    target_ = [] \n",
    "    value_ = []\n",
    "    int_keys = {}\n",
    "    temp_list = []\n",
    "    \n",
    "    # Create a complete list of sources and targets and convert to a dict:\n",
    "    for x in feature_list:\n",
    "        temp_list += gen_df[x].value_counts().index.tolist()\n",
    "\n",
    "    for x in temp_list:\n",
    "        int_keys[x] = temp_list.index(x)\n",
    "\n",
    "    # Loop through each source feature in the provided list source_feature_list. \n",
    "    # Each loop represents one portion of the sanksey diagram:\n",
    "    \n",
    "    for i in range(len(feature_list)-1):\n",
    "        # Make a list of the source values and target values for this part of the sankey diagram:\n",
    "        source_values_str = data[feature_list[i]].value_counts().index.tolist()\n",
    "        target_values_str = data[feature_list[i+1]].value_counts().index.tolist()\n",
    "\n",
    "# fix the reference to target feature\n",
    "        for source_val in source_values_str:\n",
    "            for target_val in target_values_str:\n",
    "                count_temp = data[data[feature_list[i+1]]==target_val].groupby(data[feature_list[i]]==source_val)[feature_list[i+1]].count()\n",
    "                if True in count_temp:\n",
    "                    count_temp = count_temp[True]\n",
    "                    source_.append(int_keys[source_val])\n",
    "                    target_.append(int_keys[target_val])\n",
    "                    value_.append(count_temp)\n",
    "\n",
    "    # # remove the exiting flows from the pre-defined stop_points:\n",
    "    # if stop_points is not None:\n",
    "    #     for x in stop_points:\n",
    "    #         if int_keys[x] in source_:\n",
    "    #             drop_index.append(source_.index(int_keys[x]))\n",
    "    #         else:\n",
    "    #             pass\n",
    "    #         drop_index.sort(reverse=True)\n",
    "    \n",
    "    #     for x in drop_index:\n",
    "    #         source_.pop(x)\n",
    "    #         target_.pop(x)\n",
    "    #         value_.pop(x)\n",
    "    # else:\n",
    "    #     pass\n",
    "\n",
    "    labels_str = temp_list\n",
    "    \n",
    "    return source_, target_, value_, labels_str"
   ]
  },
  {
   "cell_type": "code",
   "execution_count": 741,
   "id": "dc91eb24-98ed-4c35-b8f0-24c96d8fda0e",
   "metadata": {},
   "outputs": [],
   "source": [
    "# Creating a more complicated Sankey diagram:\n",
    "input_features = [\"is_EAL\", \"Enrolment_Status\", \"Employed_within_90D_text\", \"Employed_within_180D_text\", \"Employment_Status\"]\n",
    "stop_points_ = [\"Dismissed\", 'No Show', 'Unknown Enrolment', 'Dropout']\n",
    "\n",
    "source_, target_, value_, labels = Sankey_data_preprocessing(input_features, gen_df[gen_df[\"ProgramName\"] == \"Data Analytics\"], stop_points_)"
   ]
  },
  {
   "cell_type": "code",
   "execution_count": 742,
   "id": "a4a6d8d0-275b-404d-9581-e71e8af3cf7c",
   "metadata": {},
   "outputs": [],
   "source": [
    "def Sankey_plot(source_, target_, value_, labels=None, title_text_=None):\n",
    "    \n",
    "    fig = go.Figure(data=[go.Sankey(\n",
    "        node = dict(\n",
    "          pad = 15,\n",
    "          thickness = 20,\n",
    "          line = dict(color = \"black\", width = 0.5),\n",
    "          label = labels,\n",
    "          color = \"blue\"\n",
    "        ),\n",
    "        link = dict(\n",
    "          source = source_,\n",
    "          target = target_,\n",
    "          value = value_,\n",
    "          # hovercolor=[\"midnightblue\", \"lightskyblue\", \"gold\", \"mediumturquoise\", \"lightgreen\", \"cyan\"],\n",
    "      ))])\n",
    "\n",
    "    # #Specify color for nodes 0, 1, 2, 3 and 4 in both source and target nodes\n",
    "    # color_for_nodes = [\"blue\",\"blue\",\"green\",\"blue\",\"blue\", \"blue\", \"blue\", \"blue\", \"blue\", \"blue\",\"blue\", \"blue\", \"blue\", \"blue\", \"blue\", \"blue\", \"blue\", \"blue\", \"blue\"]\n",
    "    # fig.update_traces(node_color = color_for_nodes)\n",
    "    \n",
    "    fig.update_layout(title_text=title_text_, font_size=14)\n",
    "    fig.show(renderer=\"iframe\") "
   ]
  },
  {
   "cell_type": "code",
   "execution_count": 743,
   "id": "92d6d84f-2409-4c69-8487-590c267d764b",
   "metadata": {},
   "outputs": [
    {
     "data": {
      "text/html": [
       "<iframe\n",
       "    scrolling=\"no\"\n",
       "    width=\"100%\"\n",
       "    height=\"545px\"\n",
       "    src=\"iframe_figures/figure_743.html\"\n",
       "    frameborder=\"0\"\n",
       "    allowfullscreen\n",
       "></iframe>\n"
      ]
     },
     "metadata": {},
     "output_type": "display_data"
    }
   ],
   "source": [
    "data = gen_df\n",
    "input_features= [\"Ethnicity_Group\", \"Employment_Status\"]\n",
    "\n",
    "\n",
    "source_, target_, value_, labels = Sankey_data_preprocessing(input_features, data, stop_points_)\n",
    "Sankey_plot(source_, target_, value_, labels=labels, title_text_=\"Employment outcomes per race/ ethnic group\")"
   ]
  },
  {
   "cell_type": "markdown",
   "id": "4a7ae143-fe3c-4757-8d0b-3c7f9e27fecc",
   "metadata": {},
   "source": [
    "The diagram above shows us that there is no obvious difference in emploment rate based on race/ ethnicity"
   ]
  },
  {
   "cell_type": "code",
   "execution_count": 744,
   "id": "11895226-29fd-4d46-aba0-a3c1408d7ffe",
   "metadata": {},
   "outputs": [
    {
     "data": {
      "text/html": [
       "<iframe\n",
       "    scrolling=\"no\"\n",
       "    width=\"100%\"\n",
       "    height=\"545px\"\n",
       "    src=\"iframe_figures/figure_744.html\"\n",
       "    frameborder=\"0\"\n",
       "    allowfullscreen\n",
       "></iframe>\n"
      ]
     },
     "metadata": {},
     "output_type": "display_data"
    }
   ],
   "source": [
    "data = gen_df\n",
    "input_features= [\"gender\", \"Employment_Status\"]\n",
    "\n",
    "\n",
    "source_, target_, value_, labels = Sankey_data_preprocessing(input_features, data, stop_points_)\n",
    "Sankey_plot(source_, target_, value_, labels=labels, title_text_= \"Employment outcomes per gender\")"
   ]
  },
  {
   "cell_type": "markdown",
   "id": "cf56185d-7250-4c35-8c08-88d2d4554b9f",
   "metadata": {},
   "source": [
    "The figure above shows that Generation recruits less women and non-binary people than men for its tech bootcamps by a significant margin. The good news is that the Female, Non-binary graduates have a similar success rate in finding employment post-bootcamp."
   ]
  },
  {
   "cell_type": "code",
   "execution_count": 745,
   "id": "732e3748-d0fd-4e02-95c8-425a2242cd45",
   "metadata": {},
   "outputs": [
    {
     "data": {
      "text/html": [
       "<iframe\n",
       "    scrolling=\"no\"\n",
       "    width=\"100%\"\n",
       "    height=\"545px\"\n",
       "    src=\"iframe_figures/figure_745.html\"\n",
       "    frameborder=\"0\"\n",
       "    allowfullscreen\n",
       "></iframe>\n"
      ]
     },
     "metadata": {},
     "output_type": "display_data"
    }
   ],
   "source": [
    "data = gen_df\n",
    "input_features= [\"learnerSpecialNeedsDetails_bool\", \"Employment_Status\"]\n",
    "\n",
    "\n",
    "source_, target_, value_, labels = Sankey_data_preprocessing(input_features, data, stop_points_)\n",
    "Sankey_plot(source_, target_, value_, labels=labels, title_text_=None)"
   ]
  },
  {
   "cell_type": "markdown",
   "id": "ea63c12f-07b2-43ef-a0cb-474996c1a8d4",
   "metadata": {},
   "source": [
    "44% of individuals who disclose special needs at the time of application go on to become employed while 49% of learners without special needs find employment 6 months post-bootcamp"
   ]
  },
  {
   "cell_type": "code",
   "execution_count": 746,
   "id": "4802f160-36f1-4a3a-a076-e10a10591f8c",
   "metadata": {},
   "outputs": [
    {
     "data": {
      "text/html": [
       "<iframe\n",
       "    scrolling=\"no\"\n",
       "    width=\"100%\"\n",
       "    height=\"545px\"\n",
       "    src=\"iframe_figures/figure_746.html\"\n",
       "    frameborder=\"0\"\n",
       "    allowfullscreen\n",
       "></iframe>\n"
      ]
     },
     "metadata": {},
     "output_type": "display_data"
    }
   ],
   "source": [
    "data = gen_df\n",
    "input_features= [\"gender\", \"is_EAL\"]\n",
    "\n",
    "\n",
    "source_, target_, value_, labels = Sankey_data_preprocessing(input_features, data, stop_points_)\n",
    "Sankey_plot(source_, target_, value_, labels=labels, title_text_= \"Employment outcomes per gender\")"
   ]
  },
  {
   "cell_type": "markdown",
   "id": "e83bfe5e-95f0-4351-8811-b8a20e267b05",
   "metadata": {},
   "source": [
    "Approximately half of female students are EAL while just 30% of the Male students are EAL. Why are female generation students more likely to be EAL than male students? \n",
    "\n",
    "68.5% of Generation's tech bootcamp learners are men \n",
    "Over 50% of generation learners are native English-speaking Men\n",
    "\n",
    "Despite major efforts to recruit female and non-binary learners onto bootcamps there is much room for improvement. "
   ]
  },
  {
   "cell_type": "code",
   "execution_count": 747,
   "id": "98c0a72f-8bcf-4337-b8fb-79dd5927475d",
   "metadata": {},
   "outputs": [
    {
     "data": {
      "text/html": [
       "<style type=\"text/css\">\n",
       "#T_69530_row0_col0 {\n",
       "  background-color: #bcc7e1;\n",
       "  color: #000000;\n",
       "}\n",
       "#T_69530_row0_col1 {\n",
       "  background-color: #b4c4df;\n",
       "  color: #000000;\n",
       "}\n",
       "#T_69530_row1_col0 {\n",
       "  background-color: #a8bedc;\n",
       "  color: #000000;\n",
       "}\n",
       "#T_69530_row1_col1 {\n",
       "  background-color: #4295c3;\n",
       "  color: #f1f1f1;\n",
       "}\n",
       "#T_69530_row2_col0, #T_69530_row3_col0, #T_69530_row3_col1, #T_69530_row4_col0, #T_69530_row4_col1 {\n",
       "  background-color: #dbdaeb;\n",
       "  color: #000000;\n",
       "}\n",
       "#T_69530_row2_col1 {\n",
       "  background-color: #dad9ea;\n",
       "  color: #000000;\n",
       "}\n",
       "</style>\n",
       "<table id=\"T_69530\">\n",
       "  <thead>\n",
       "    <tr>\n",
       "      <th class=\"blank level0\" >&nbsp;</th>\n",
       "      <th id=\"T_69530_level0_col0\" class=\"col_heading level0 col0\" >Is EAL</th>\n",
       "      <th id=\"T_69530_level0_col1\" class=\"col_heading level0 col1\" >Is not EAL</th>\n",
       "    </tr>\n",
       "    <tr>\n",
       "      <th class=\"index_name level0\" >gender</th>\n",
       "      <th class=\"blank col0\" >&nbsp;</th>\n",
       "      <th class=\"blank col1\" >&nbsp;</th>\n",
       "    </tr>\n",
       "  </thead>\n",
       "  <tbody>\n",
       "    <tr>\n",
       "      <th id=\"T_69530_level0_row0\" class=\"row_heading level0 row0\" >Female</th>\n",
       "      <td id=\"T_69530_row0_col0\" class=\"data row0 col0\" >226</td>\n",
       "      <td id=\"T_69530_row0_col1\" class=\"data row0 col1\" >275</td>\n",
       "    </tr>\n",
       "    <tr>\n",
       "      <th id=\"T_69530_level0_row1\" class=\"row_heading level0 row1\" >Male</th>\n",
       "      <td id=\"T_69530_row1_col0\" class=\"data row1 col0\" >341</td>\n",
       "      <td id=\"T_69530_row1_col1\" class=\"data row1 col1\" >811</td>\n",
       "    </tr>\n",
       "    <tr>\n",
       "      <th id=\"T_69530_level0_row2\" class=\"row_heading level0 row2\" >Non-binary</th>\n",
       "      <td id=\"T_69530_row2_col0\" class=\"data row2 col0\" >5</td>\n",
       "      <td id=\"T_69530_row2_col1\" class=\"data row2 col1\" >11</td>\n",
       "    </tr>\n",
       "    <tr>\n",
       "      <th id=\"T_69530_level0_row3\" class=\"row_heading level0 row3\" >Other</th>\n",
       "      <td id=\"T_69530_row3_col0\" class=\"data row3 col0\" >2</td>\n",
       "      <td id=\"T_69530_row3_col1\" class=\"data row3 col1\" >4</td>\n",
       "    </tr>\n",
       "    <tr>\n",
       "      <th id=\"T_69530_level0_row4\" class=\"row_heading level0 row4\" >Prefer not to say</th>\n",
       "      <td id=\"T_69530_row4_col0\" class=\"data row4 col0\" >4</td>\n",
       "      <td id=\"T_69530_row4_col1\" class=\"data row4 col1\" >1</td>\n",
       "    </tr>\n",
       "  </tbody>\n",
       "</table>\n"
      ],
      "text/plain": [
       "<pandas.io.formats.style.Styler at 0x157ca7210>"
      ]
     },
     "execution_count": 747,
     "metadata": {},
     "output_type": "execute_result"
    }
   ],
   "source": [
    "EAL_genders = gen_df[gen_df[\"is_EAL\"]==1][\"is_EAL\"].groupby(gen_df[\"gender\"]).count()\n",
    "nonEAL_genders = gen_df[gen_df[\"is_EAL\"]==0][\"Student_ID\"].groupby(gen_df[\"gender\"]).count()\n",
    "\n",
    "EAL_gender_df = pd.concat([EAL_genders, nonEAL_genders], axis=1)\n",
    "EAL_gender_df.rename(columns = {\"is_EAL\":\"Is EAL\", \"Student_ID\":\"Is not EAL\"}, inplace=True)\n",
    "\n",
    "EAL_gender_df.style.background_gradient(axis=None, low=0.5, high=1)"
   ]
  },
  {
   "cell_type": "code",
   "execution_count": null,
   "id": "5d4131c1-b4ca-49c3-8e7e-d7e340222935",
   "metadata": {},
   "outputs": [],
   "source": []
  },
  {
   "cell_type": "code",
   "execution_count": null,
   "id": "c70356ed-80d6-4078-9a26-c59cacae27df",
   "metadata": {},
   "outputs": [],
   "source": []
  },
  {
   "cell_type": "code",
   "execution_count": null,
   "id": "963eb2eb-59d0-421f-988d-d82edbc6baf7",
   "metadata": {},
   "outputs": [],
   "source": []
  },
  {
   "cell_type": "code",
   "execution_count": null,
   "id": "152f6733-ceea-4edb-8e95-dfd9f07d061b",
   "metadata": {},
   "outputs": [],
   "source": []
  },
  {
   "cell_type": "code",
   "execution_count": null,
   "id": "f7bee37e-03f9-475c-843a-915666671afc",
   "metadata": {},
   "outputs": [],
   "source": [
    "# Other WIP stuff below:"
   ]
  },
  {
   "cell_type": "code",
   "execution_count": null,
   "id": "414e732b-9640-4b4f-859f-7d3d8cf2bc6e",
   "metadata": {},
   "outputs": [],
   "source": [
    "EAL_genders = gen_df[gen_df[\"is_EAL\"]==1][\"is_EAL\"].groupby(gen_df[\"gender\"]).count()\n",
    "nonEAL_genders = gen_df[gen_df[\"is_EAL\"]==0][\"Student_ID\"].groupby(gen_df[\"gender\"]).count()\n",
    "\n",
    "EAL_gender_df = pd.concat([EAL_genders, nonEAL_genders], axis=1)\n",
    "EAL_gender_df.rename(columns = {\"is_EAL\":\"Is EAL\", \"Student_ID\":\"Is not EAL\"}, inplace=True)\n",
    "\n",
    "EAL_gender_df.style.background_gradient(axis=None, low=0.5, high=1)"
   ]
  },
  {
   "cell_type": "code",
   "execution_count": null,
   "id": "1a447b82-2f34-4a96-bfe4-7b52780ae3cb",
   "metadata": {},
   "outputs": [],
   "source": [
    "test_df = gen_df.groupby([\"gender\",\"is_EAL\"])[\"is_EAL\"].count()\n",
    "test_df"
   ]
  },
  {
   "cell_type": "code",
   "execution_count": null,
   "id": "30837bb6-b7fe-4797-8486-5281b7ac07ac",
   "metadata": {},
   "outputs": [],
   "source": []
  },
  {
   "cell_type": "code",
   "execution_count": null,
   "id": "047c7f1e-efb7-4c69-82b5-c9ca20d7d30b",
   "metadata": {},
   "outputs": [],
   "source": []
  },
  {
   "cell_type": "markdown",
   "id": "84b21812-c546-4c56-ad61-f257dfcbf264",
   "metadata": {},
   "source": [
    "## Summary"
   ]
  },
  {
   "cell_type": "markdown",
   "id": "09c9b99a-681f-4e53-a3ab-41e63fed75c4",
   "metadata": {},
   "source": []
  },
  {
   "cell_type": "markdown",
   "id": "c16a9f3d-55cb-4bee-a860-92f26fb10405",
   "metadata": {},
   "source": [
    "## Next steps"
   ]
  },
  {
   "cell_type": "markdown",
   "id": "54738e23-fe39-4e36-bc16-4d469098a5c8",
   "metadata": {},
   "source": []
  },
  {
   "cell_type": "markdown",
   "id": "6c8d92e9-ba3a-424b-88e9-d305843f94c1",
   "metadata": {},
   "source": []
  }
 ],
 "metadata": {
  "kernelspec": {
   "display_name": "Python 3 (ipykernel)",
   "language": "python",
   "name": "python3"
  },
  "language_info": {
   "codemirror_mode": {
    "name": "ipython",
    "version": 3
   },
   "file_extension": ".py",
   "mimetype": "text/x-python",
   "name": "python",
   "nbconvert_exporter": "python",
   "pygments_lexer": "ipython3",
   "version": "3.11.7"
  }
 },
 "nbformat": 4,
 "nbformat_minor": 5
}
