{
 "cells": [
  {
   "cell_type": "markdown",
   "id": "15691304-6e55-4ce9-ac9f-a7227f8dac25",
   "metadata": {},
   "source": [
    "## Data Cleaning\n",
    "\n",
    "Generation UK&I has a mission to get disadvantaged people into sustainable careers that would otherwise be unattainable. This Jupyter notebook contains the data cleaning steps taken as part of initial exploratory data analysis. EDA is captured in a separate jupyter notebook."
   ]
  },
  {
   "cell_type": "code",
   "execution_count": 20,
   "id": "ff3426ef-66f7-4808-a843-a00daa73d121",
   "metadata": {},
   "outputs": [],
   "source": [
    "# Imports\n",
    "import pandas as pd\n",
    "import matplotlib.pyplot as plt\n",
    "import numpy as np\n",
    "from pandas.api.types import CategoricalDtype"
   ]
  },
  {
   "cell_type": "code",
   "execution_count": 27,
   "id": "2c8b7d7b-2a6c-4405-b20c-e8bf1dfbbeec",
   "metadata": {},
   "outputs": [],
   "source": [
    "# Reading the data and combining the two data sources:\n",
    "PowerBI_df = pd.read_csv(\"Gen_Data/data_improved_including DE_AWS.csv\")\n",
    "SF_df = pd.read_csv(\"Gen_Data/Grad_attendance_info.xls.csv\")\n",
    "\n",
    "SF_df.rename(columns={\"Learner Name\":\"LearnerName\"}, inplace=True) #renaming the column required for merging\n",
    "\n",
    "gen_df = pd.merge(PowerBI_df, SF_df, left_on='LearnerName', right_on='LearnerName')"
   ]
  },
  {
   "cell_type": "code",
   "execution_count": 28,
   "id": "12b0ece3-1c6b-4cb4-8ede-df1bd53d4725",
   "metadata": {},
   "outputs": [],
   "source": [
    "# Filter the data so that we are only looking at tech programmes:\n",
    "gen_df = gen_df[gen_df[\"ProgramName\"].isin([\"Technology - Cloud Operations Engineer\", \n",
    "                                                 \"Technology - Data Engineering\", \n",
    "                                                 \"Data Analytics\", \"IT Support\", \n",
    "                                                 \"Tech Talent Accelerator - Software Engineering\", \n",
    "                                                 \"Google Cloud\"])]\n",
    "\n",
    "# Filter data so that we are only looking at individuals that have graduated more than 180 days ago:\n",
    "gen_df = gen_df[gen_df[\"Days Since Cohort Graduation\"] >= 180]"
   ]
  },
  {
   "cell_type": "code",
   "execution_count": 29,
   "id": "8f474b69-edc8-4742-b223-570dc7091400",
   "metadata": {},
   "outputs": [],
   "source": [
    "# Remove Dublin, this is the only Irish cohort and is an outlier in the dataset:\n",
    "gen_df = gen_df.drop(gen_df[gen_df[\"Cohort_City\"]==\"Dublin\"].index)"
   ]
  },
  {
   "cell_type": "code",
   "execution_count": 30,
   "id": "3986a542-b6fd-49ab-8da1-841487447a3a",
   "metadata": {},
   "outputs": [],
   "source": [
    "# Clean \"learnerSpecialNeedsDetails\" before creating a wordcloud:\n",
    "\n",
    "Needs_clean = gen_df[[\"learnerSpecialNeedsDetails\", \"ProgramName\"]].dropna()\n",
    "Needs_clean = Needs_clean.drop(Needs_clean[Needs_clean[\"learnerSpecialNeedsDetails\"]==\"No\"].index)\n",
    "Needs_clean = Needs_clean.drop(Needs_clean[Needs_clean[\"learnerSpecialNeedsDetails\"]==\"NIL\"].index)\n",
    "Needs_clean = Needs_clean.drop(Needs_clean[Needs_clean[\"learnerSpecialNeedsDetails\"]==\"Non\"].index)\n",
    "Needs_clean = Needs_clean.drop(Needs_clean[Needs_clean[\"learnerSpecialNeedsDetails\"]==\"NONE\"].index)\n",
    "Needs_clean = Needs_clean.drop(Needs_clean[Needs_clean[\"learnerSpecialNeedsDetails\"]==\"nan\"].index)"
   ]
  },
  {
   "cell_type": "code",
   "execution_count": 31,
   "id": "86d98c7d-1a8a-434f-8ec0-c2a0149ee6cd",
   "metadata": {},
   "outputs": [],
   "source": [
    "def find_text(x):\n",
    "    if x != 0:\n",
    "        return 1\n",
    "    else:\n",
    "        return 0"
   ]
  },
  {
   "cell_type": "code",
   "execution_count": 32,
   "id": "12120ac4-5cea-4295-b0bc-459b8fa885dd",
   "metadata": {},
   "outputs": [],
   "source": [
    "gen_df[\"learnerSpecialNeedsDetails_bool\"] = gen_df[\"learnerSpecialNeedsDetails\"].fillna(0)\n",
    "gen_df[\"learnerSpecialNeedsDetails_bool\"] = gen_df[\"learnerSpecialNeedsDetails_bool\"].replace(to_replace= [\"No\", \"NIL\", \"Non\", \"NONE\", \"nan\"],\n",
    "                                                                                              value= 0)\n",
    "gen_df[\"learnerSpecialNeedsDetails_bool\"] = gen_df[\"learnerSpecialNeedsDetails_bool\"].apply(find_text)"
   ]
  },
  {
   "cell_type": "code",
   "execution_count": 33,
   "id": "37f4bd71-7327-4b43-8297-f24702a148b7",
   "metadata": {},
   "outputs": [],
   "source": [
    "def find_women_and_nb(x):\n",
    "    if x in [\"Female\", \"Non-binary\", \"Other\"]:\n",
    "        return 1\n",
    "    else:\n",
    "        return 0"
   ]
  },
  {
   "cell_type": "code",
   "execution_count": 34,
   "id": "4cd63955-c2d0-4b5e-a350-24a6dc33a6c8",
   "metadata": {},
   "outputs": [],
   "source": [
    "gen_df[\"gender_bool\"] = gen_df[\"gender\"].apply(find_women_and_nb)"
   ]
  },
  {
   "cell_type": "code",
   "execution_count": 35,
   "id": "fe4d289b-fc31-440d-9fb1-bbbb0874c7b7",
   "metadata": {},
   "outputs": [],
   "source": [
    "# replace nans in enrolment status with \"Unknown\"\n",
    "# replace nans in employed within 90 days with 0\n",
    "\n",
    "gen_df[\"Enrolment_Status\"].fillna(\"Unknown Enrolment\", inplace=True)\n",
    "gen_df[\"Employment_Status\"].fillna(\"Unknown Employment\", inplace=True)\n",
    "\n",
    "gen_df[\"Employed_within_90D\"].fillna(0, inplace=True)\n",
    "gen_df[\"Employed_within_90D_text\"] = gen_df[\"Employed_within_90D\"].replace(to_replace= [0, 1],\n",
    "                                                                           value= [\"Not employed 90D\", \"Employed 90D\"])\n",
    "\n",
    "gen_df[\"Employed_within_180D\"].fillna(0, inplace=True)\n",
    "gen_df[\"Employed_within_180D_text\"] = gen_df[\"Employed_within_180D\"].replace(to_replace= [0, 1],\n",
    "                                                                           value= [\"Not employed 180D\", \"Employed 180D\"])\n",
    "\n",
    "gen_df[\"Ethnicity_Group\"].fillna(\"Not disclosed\", inplace=True)"
   ]
  },
  {
   "cell_type": "code",
   "execution_count": 36,
   "id": "2c4e331e-7b70-4740-b53c-ddf879e9339f",
   "metadata": {},
   "outputs": [],
   "source": [
    "gen_df[\"Employment_Status\"]= gen_df[\"Employment_Status\"].replace(to_replace= [\"Placed\", \"Unknown\", \"Internship\"],\n",
    "                                    value= [\"Employed\", \"Unknown Employment\", \"Employed\"])"
   ]
  },
  {
   "cell_type": "code",
   "execution_count": 37,
   "id": "2944cd66-36d6-42a9-b7aa-25f037da0621",
   "metadata": {},
   "outputs": [],
   "source": [
    "gen_df[\"Ethnicity_Group\"] = gen_df[\"Ethnicity_Group\"].replace(to_replace= \"Roma, Gypsy or Irish traveller\",\n",
    "                                                              value= \"Other\")"
   ]
  },
  {
   "cell_type": "code",
   "execution_count": 38,
   "id": "16b555b9-e8c3-4308-963a-98bd5ae8ef98",
   "metadata": {},
   "outputs": [],
   "source": [
    "gen_df[\"gender\"] = gen_df[\"gender\"].replace(to_replace= [\"Other/Prefer to self describe\", \"Choose not to identify\"],\n",
    "                                            value= [\"Other\", \"Prefer not to say\"])"
   ]
  },
  {
   "cell_type": "code",
   "execution_count": 39,
   "id": "55ffba5e-9dea-496a-91a9-ba4ad392fa25",
   "metadata": {},
   "outputs": [],
   "source": [
    "gen_df[\"Graduation Date\"] = pd.to_datetime(gen_df[\"Graduation Date\"])\n",
    "gen_df[\"Graduation_month\"] = gen_df[\"Graduation Date\"].dt.month\n",
    "gen_df[\"Graduation_year\"] = gen_df[\"Graduation Date\"].dt.year\n",
    "gen_df[\"Graduation_year_month\"] = gen_df[\"Graduation Date\"].dt.to_period(\"M\")"
   ]
  },
  {
   "cell_type": "code",
   "execution_count": 40,
   "id": "4178111d-9ffc-4bca-a8f2-d0631fa225ef",
   "metadata": {},
   "outputs": [],
   "source": [
    "# cleaning specific features ahead of heatmap correlation analysis:\n",
    "# asylumSeeker, Has_dependents, is_ethnic_minority, is_LGBTQ+, is_lone_parent\n",
    "\n",
    "# Cleaning asylumSeeker:\n",
    "gen_df[\"asylumSeeker\"].fillna(\"No\", inplace=True)\n",
    "\n",
    "# Cleaning Has_dependents:\n",
    "gen_df[\"Has_dependents\"].fillna(0, inplace=True)\n",
    "\n",
    "# Cleaning is_ethnic_minority\n",
    "gen_df[\"is_ethnic_minority\"].fillna(0, inplace=True)\n",
    "\n",
    "# Cleaning is_LGBTQ+\n",
    "gen_df[\"is_LGBTQ+\"].fillna(0, inplace=True)\n",
    "\n",
    "# Cleaning is_lone_parent\n",
    "gen_df[\"is_lone_parent\"].fillna(0, inplace=True)\n"
   ]
  },
  {
   "cell_type": "code",
   "execution_count": 41,
   "id": "2f9ed361-070d-4dea-ad7b-95b9421c1306",
   "metadata": {},
   "outputs": [],
   "source": [
    "# Assigning ordinality to categorical features:\n",
    "\n",
    "socioeconStatusMap_levels = CategoricalDtype(categories=[\"Exclude\", \"Lower socio-economic backgrounds\", \"Intermediate backgrounds\", \"Professional backgrounds\"], ordered=True)\n",
    "gen_df[\"socioeconStatusMap_ordered\"] = gen_df[\"socioeconStatusMap\"].astype(socioeconStatusMap_levels)\n",
    "\n",
    "asylumSeeker_levels = CategoricalDtype(categories=[\"No\", \"Choose not to say\", \"Yes\"], ordered=True)\n",
    "gen_df[\"asylumSeeker_ordered\"] = gen_df[\"asylumSeeker\"].astype(asylumSeeker_levels)\n",
    "\n",
    "gen_df[\"asylumSeeker_bool\"] = gen_df[\"asylumSeeker\"].replace(to_replace= [\"No\", \"Choose not to say\", \"Yes\"],\n",
    "                                                                  value= [0, 0, 1])\n"
   ]
  },
  {
   "cell_type": "code",
   "execution_count": 42,
   "id": "462e3894-43b5-46a9-ba28-e914594f7d82",
   "metadata": {},
   "outputs": [],
   "source": [
    "gen_df.drop(\"LearnerName\", axis=1, inplace=True)"
   ]
  },
  {
   "cell_type": "code",
   "execution_count": 44,
   "id": "ec4b6bc3-bae8-46cb-aeb4-bdde78c525b0",
   "metadata": {},
   "outputs": [],
   "source": [
    "gen_df.to_csv(\"Gen_Data/ANON_gen_data_March2024.csv\")"
   ]
  },
  {
   "cell_type": "code",
   "execution_count": null,
   "id": "1e9e568b-3b2e-4981-8eb8-660541ec3c29",
   "metadata": {},
   "outputs": [],
   "source": []
  }
 ],
 "metadata": {
  "kernelspec": {
   "display_name": "Python 3 (ipykernel)",
   "language": "python",
   "name": "python3"
  },
  "language_info": {
   "codemirror_mode": {
    "name": "ipython",
    "version": 3
   },
   "file_extension": ".py",
   "mimetype": "text/x-python",
   "name": "python",
   "nbconvert_exporter": "python",
   "pygments_lexer": "ipython3",
   "version": "3.11.7"
  }
 },
 "nbformat": 4,
 "nbformat_minor": 5
}
